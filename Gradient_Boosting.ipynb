{
 "cells": [
  {
   "cell_type": "markdown",
   "id": "fc26abee-5352-4368-b070-84ff1c4d0e75",
   "metadata": {},
   "source": [
    "# Gradient Boosting Decision Tree\n",
    "\n",
    "Preksha"
   ]
  },
  {
   "cell_type": "code",
   "execution_count": 35,
   "id": "e9eef418-1767-43ca-8f7f-6290e4ede2f4",
   "metadata": {},
   "outputs": [],
   "source": [
    "import pandas as pd\n",
    "from sklearn.ensemble import GradientBoostingClassifier\n",
    "from sklearn.model_selection import train_test_split\n",
    "from sklearn.metrics import mean_squared_error\n",
    "from sklearn.metrics import confusion_matrix, ConfusionMatrixDisplay\n",
    "import matplotlib.pyplot as plt"
   ]
  },
  {
   "cell_type": "code",
   "execution_count": 36,
   "id": "d7266ed7-7c22-4981-b88c-2d4f7773ec2e",
   "metadata": {},
   "outputs": [],
   "source": [
    "df = pd.read_csv('loan_approval_dataset.csv')\n",
    "df.head()\n",
    "df.columns = df.columns.str.strip()"
   ]
  },
  {
   "cell_type": "code",
   "execution_count": 49,
   "id": "a99a381c-a0cc-4cd5-813d-ac87dd94df40",
   "metadata": {},
   "outputs": [
    {
     "data": {
      "text/html": [
       "<div>\n",
       "<style scoped>\n",
       "    .dataframe tbody tr th:only-of-type {\n",
       "        vertical-align: middle;\n",
       "    }\n",
       "\n",
       "    .dataframe tbody tr th {\n",
       "        vertical-align: top;\n",
       "    }\n",
       "\n",
       "    .dataframe thead th {\n",
       "        text-align: right;\n",
       "    }\n",
       "</style>\n",
       "<table border=\"1\" class=\"dataframe\">\n",
       "  <thead>\n",
       "    <tr style=\"text-align: right;\">\n",
       "      <th></th>\n",
       "      <th>loan_id</th>\n",
       "      <th>no_of_dependents</th>\n",
       "      <th>income_annum</th>\n",
       "      <th>loan_amount</th>\n",
       "      <th>loan_term</th>\n",
       "      <th>cibil_score</th>\n",
       "      <th>residential_assets_value</th>\n",
       "      <th>commercial_assets_value</th>\n",
       "      <th>luxury_assets_value</th>\n",
       "      <th>bank_asset_value</th>\n",
       "      <th>education_ Graduate</th>\n",
       "      <th>education_ Not Graduate</th>\n",
       "      <th>self_employed_ No</th>\n",
       "      <th>self_employed_ Yes</th>\n",
       "    </tr>\n",
       "  </thead>\n",
       "  <tbody>\n",
       "    <tr>\n",
       "      <th>3084</th>\n",
       "      <td>3085</td>\n",
       "      <td>4</td>\n",
       "      <td>9700000</td>\n",
       "      <td>19400000</td>\n",
       "      <td>20</td>\n",
       "      <td>798</td>\n",
       "      <td>6400000</td>\n",
       "      <td>13700000</td>\n",
       "      <td>20300000</td>\n",
       "      <td>12800000</td>\n",
       "      <td>True</td>\n",
       "      <td>False</td>\n",
       "      <td>True</td>\n",
       "      <td>False</td>\n",
       "    </tr>\n",
       "    <tr>\n",
       "      <th>759</th>\n",
       "      <td>760</td>\n",
       "      <td>2</td>\n",
       "      <td>9700000</td>\n",
       "      <td>19900000</td>\n",
       "      <td>16</td>\n",
       "      <td>395</td>\n",
       "      <td>2800000</td>\n",
       "      <td>13700000</td>\n",
       "      <td>37000000</td>\n",
       "      <td>10800000</td>\n",
       "      <td>True</td>\n",
       "      <td>False</td>\n",
       "      <td>True</td>\n",
       "      <td>False</td>\n",
       "    </tr>\n",
       "    <tr>\n",
       "      <th>963</th>\n",
       "      <td>964</td>\n",
       "      <td>0</td>\n",
       "      <td>5000000</td>\n",
       "      <td>14400000</td>\n",
       "      <td>4</td>\n",
       "      <td>874</td>\n",
       "      <td>3000000</td>\n",
       "      <td>9300000</td>\n",
       "      <td>14100000</td>\n",
       "      <td>3900000</td>\n",
       "      <td>True</td>\n",
       "      <td>False</td>\n",
       "      <td>True</td>\n",
       "      <td>False</td>\n",
       "    </tr>\n",
       "  </tbody>\n",
       "</table>\n",
       "</div>"
      ],
      "text/plain": [
       "      loan_id  no_of_dependents  income_annum  loan_amount  loan_term  \\\n",
       "3084     3085                 4       9700000     19400000         20   \n",
       "759       760                 2       9700000     19900000         16   \n",
       "963       964                 0       5000000     14400000          4   \n",
       "\n",
       "      cibil_score  residential_assets_value  commercial_assets_value  \\\n",
       "3084          798                   6400000                 13700000   \n",
       "759           395                   2800000                 13700000   \n",
       "963           874                   3000000                  9300000   \n",
       "\n",
       "      luxury_assets_value  bank_asset_value  education_ Graduate  \\\n",
       "3084             20300000          12800000                 True   \n",
       "759              37000000          10800000                 True   \n",
       "963              14100000           3900000                 True   \n",
       "\n",
       "      education_ Not Graduate  self_employed_ No  self_employed_ Yes  \n",
       "3084                    False               True               False  \n",
       "759                     False               True               False  \n",
       "963                     False               True               False  "
      ]
     },
     "execution_count": 49,
     "metadata": {},
     "output_type": "execute_result"
    }
   ],
   "source": [
    "#standardize and one hot encode\n",
    "train,test = train_test_split(df, train_size=0.8)\n",
    "\n",
    "X_train = train.drop('loan_status', axis=1)\n",
    "y_train = train['loan_status']\n",
    "\n",
    "# Numeric vs categorical\n",
    "X_train_num = X_train.select_dtypes(include='number')\n",
    "X_train_cat = X_train.select_dtypes(exclude='number')\n",
    "\n",
    "\n",
    "# # Scale numeric\n",
    "# from sklearn.preprocessing import StandardScaler\n",
    "# stnd = StandardScaler().set_output(transform='pandas')\n",
    "# X_train_num = stnd.fit_transform(X_train_num)\n",
    "\n",
    "X_train_cat = pd.get_dummies(X_train_cat, drop_first=False)\n",
    "\n",
    "X_train = pd.concat([X_train_num, X_train_cat], axis=1)\n",
    "\n",
    "X_train.head(3)"
   ]
  },
  {
   "cell_type": "code",
   "execution_count": 46,
   "id": "1228d34c-9826-4e4d-aed2-b858776fe833",
   "metadata": {},
   "outputs": [],
   "source": [
    "# standardize the test set\n",
    "X_test = test.drop('loan_status', axis=1)\n",
    "y_test = test.loan_status\n",
    "\n",
    "X_test_num = X_test.select_dtypes(include='number')\n",
    "X_test_cat = X_test.select_dtypes(exclude='number')\n",
    "\n",
    "X_test_cat = pd.get_dummies(X_test_cat, drop_first=False)\n",
    "\n",
    "# X_test_num = stnd.transform(X_test_num)\n",
    "\n",
    "X_test = pd.concat([X_test_num, X_test_cat], axis=1)"
   ]
  },
  {
   "cell_type": "code",
   "execution_count": 47,
   "id": "a4911a69-8822-4702-8b34-ea75d4234367",
   "metadata": {},
   "outputs": [
    {
     "data": {
      "text/plain": [
       "0.968384074941452"
      ]
     },
     "execution_count": 47,
     "metadata": {},
     "output_type": "execute_result"
    }
   ],
   "source": [
    "# Train Gradient Boosting model\n",
    "model = GradientBoostingClassifier()\n",
    "model.fit(X_train, y_train)\n",
    "\n",
    "# Predict\n",
    "y_pred = model.predict(X_test)\n",
    "\n",
    "model.score(X_test, y_test)"
   ]
  },
  {
   "cell_type": "markdown",
   "id": "acbc07f3-9b1e-4021-b27e-fd608232d07c",
   "metadata": {},
   "source": [
    "Is there a particular prediction they are missing?"
   ]
  },
  {
   "cell_type": "code",
   "execution_count": 48,
   "id": "7554bb15-edcb-477d-9917-ffb7e264925e",
   "metadata": {},
   "outputs": [
    {
     "data": {
      "image/png": "[encoded data removed]",
      "text/plain": [
       "<Figure size 640x480 with 2 Axes>"
      ]
     },
     "metadata": {},
     "output_type": "display_data"
    }
   ],
   "source": [
    "cm= confusion_matrix(y_test, y_pred)\n",
    "disp = ConfusionMatrixDisplay(confusion_matrix=cm)\n",
    "disp.plot(cmap='Blues')\n",
    "plt.title(\"Confusion Matrix Gradient Boosting\")\n",
    "plt.show()"
   ]
  },
  {
   "cell_type": "markdown",
   "id": "ae15a96f-7d0c-49e4-9ce0-e959904b13b4",
   "metadata": {},
   "source": [
    "Not a niche failure -- the FP and FN are about equal"
   ]
  },
  {
   "cell_type": "markdown",
   "id": "1930eb9e-f271-4600-b904-03d5269700ed",
   "metadata": {},
   "source": [
    "QUESTION: Should we be stratifying the targets? THe 1/1 and 0/0 squares are not euqual in numbers. But summary statsitics led me to believe that we didn't need to stratify"
   ]
  },
  {
   "cell_type": "code",
   "execution_count": null,
   "id": "e1ff08fb-5811-46c5-847e-0d13a8bf7f2a",
   "metadata": {},
   "outputs": [],
   "source": []
  }
 ],
 "metadata": {
  "kernelspec": {
   "display_name": "Python 3 (ipykernel)",
   "language": "python",
   "name": "python3"
  },
  "language_info": {
   "codemirror_mode": {
    "name": "ipython",
    "version": 3
   },
   "file_extension": ".py",
   "mimetype": "text/x-python",
   "name": "python",
   "nbconvert_exporter": "python",
   "pygments_lexer": "ipython3",
   "version": "3.11.11"
  }
 },
 "nbformat": 4,
 "nbformat_minor": 5
}
