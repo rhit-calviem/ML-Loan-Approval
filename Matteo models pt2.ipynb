{
 "cells": [
  {
   "cell_type": "markdown",
   "id": "02908980-5d08-4965-9fd4-dc9e6d81833b",
   "metadata": {},
   "source": [
    "# Code to classification by Matteo"
   ]
  },
  {
   "cell_type": "markdown",
   "id": "609b3d8a-43db-44ca-9352-f3ef689b54de",
   "metadata": {},
   "source": [
    "# Data Preprocess"
   ]
  },
  {
   "cell_type": "code",
   "execution_count": 1,
   "id": "89bff928-8133-4382-9740-ca1c695d25f8",
   "metadata": {},
   "outputs": [],
   "source": [
    "import pandas as pd\n",
    "import numpy as np\n",
    "from sklearn.model_selection import train_test_split, GridSearchCV\n",
    "from sklearn.preprocessing import StandardScaler, OneHotEncoder\n",
    "from sklearn.metrics import classification_report, confusion_matrix, ConfusionMatrixDisplay, accuracy_score\n",
    "from sklearn.svm import SVC\n",
    "from sklearn.naive_bayes import GaussianNB\n",
    "from sklearn.neural_network import MLPClassifier"
   ]
  },
  {
   "cell_type": "code",
   "execution_count": 2,
   "id": "a8aa9c8b-5941-4f4c-9501-0bba461eefa0",
   "metadata": {},
   "outputs": [
    {
     "data": {
      "text/html": [
       "<div>\n",
       "<style scoped>\n",
       "    .dataframe tbody tr th:only-of-type {\n",
       "        vertical-align: middle;\n",
       "    }\n",
       "\n",
       "    .dataframe tbody tr th {\n",
       "        vertical-align: top;\n",
       "    }\n",
       "\n",
       "    .dataframe thead th {\n",
       "        text-align: right;\n",
       "    }\n",
       "</style>\n",
       "<table border=\"1\" class=\"dataframe\">\n",
       "  <thead>\n",
       "    <tr style=\"text-align: right;\">\n",
       "      <th></th>\n",
       "      <th>no_of_dependents</th>\n",
       "      <th>education</th>\n",
       "      <th>self_employed</th>\n",
       "      <th>income_annum</th>\n",
       "      <th>loan_amount</th>\n",
       "      <th>loan_term</th>\n",
       "      <th>cibil_score</th>\n",
       "      <th>residential_assets_value</th>\n",
       "      <th>commercial_assets_value</th>\n",
       "      <th>luxury_assets_value</th>\n",
       "      <th>bank_asset_value</th>\n",
       "      <th>loan_status</th>\n",
       "    </tr>\n",
       "  </thead>\n",
       "  <tbody>\n",
       "    <tr>\n",
       "      <th>0</th>\n",
       "      <td>2</td>\n",
       "      <td>Graduate</td>\n",
       "      <td>No</td>\n",
       "      <td>9600000</td>\n",
       "      <td>29900000</td>\n",
       "      <td>12</td>\n",
       "      <td>778</td>\n",
       "      <td>2400000</td>\n",
       "      <td>17600000</td>\n",
       "      <td>22700000</td>\n",
       "      <td>8000000</td>\n",
       "      <td>Approved</td>\n",
       "    </tr>\n",
       "    <tr>\n",
       "      <th>1</th>\n",
       "      <td>0</td>\n",
       "      <td>Not Graduate</td>\n",
       "      <td>Yes</td>\n",
       "      <td>4100000</td>\n",
       "      <td>12200000</td>\n",
       "      <td>8</td>\n",
       "      <td>417</td>\n",
       "      <td>2700000</td>\n",
       "      <td>2200000</td>\n",
       "      <td>8800000</td>\n",
       "      <td>3300000</td>\n",
       "      <td>Rejected</td>\n",
       "    </tr>\n",
       "    <tr>\n",
       "      <th>2</th>\n",
       "      <td>3</td>\n",
       "      <td>Graduate</td>\n",
       "      <td>No</td>\n",
       "      <td>9100000</td>\n",
       "      <td>29700000</td>\n",
       "      <td>20</td>\n",
       "      <td>506</td>\n",
       "      <td>7100000</td>\n",
       "      <td>4500000</td>\n",
       "      <td>33300000</td>\n",
       "      <td>12800000</td>\n",
       "      <td>Rejected</td>\n",
       "    </tr>\n",
       "  </tbody>\n",
       "</table>\n",
       "</div>"
      ],
      "text/plain": [
       "   no_of_dependents      education self_employed  income_annum  loan_amount  \\\n",
       "0                 2       Graduate            No       9600000     29900000   \n",
       "1                 0   Not Graduate           Yes       4100000     12200000   \n",
       "2                 3       Graduate            No       9100000     29700000   \n",
       "\n",
       "   loan_term  cibil_score  residential_assets_value  commercial_assets_value  \\\n",
       "0         12          778                   2400000                 17600000   \n",
       "1          8          417                   2700000                  2200000   \n",
       "2         20          506                   7100000                  4500000   \n",
       "\n",
       "   luxury_assets_value  bank_asset_value loan_status  \n",
       "0             22700000           8000000    Approved  \n",
       "1              8800000           3300000    Rejected  \n",
       "2             33300000          12800000    Rejected  "
      ]
     },
     "execution_count": 2,
     "metadata": {},
     "output_type": "execute_result"
    }
   ],
   "source": [
    "# Load dataset\n",
    "df = pd.read_csv(\"loan_approval_dataset.csv\")\n",
    "df = df.drop(columns=[\"loan_id\"])\n",
    "df.columns = df.columns.str.strip()\n",
    "df.head(3)"
   ]
  },
  {
   "cell_type": "code",
   "execution_count": 3,
   "id": "e0e52b39-06fd-404b-a079-473b2953e74e",
   "metadata": {},
   "outputs": [],
   "source": [
    "df[\"loan_status\"] = df[\"loan_status\"].str.strip().map({'Rejected': 0, 'Approved': 1})"
   ]
  },
  {
   "cell_type": "code",
   "execution_count": 4,
   "id": "06d8dd90-e530-4d2e-b607-92ff650d9242",
   "metadata": {},
   "outputs": [],
   "source": [
    "X = df.drop(columns=[\"loan_status\"])\n",
    "y = df[\"loan_status\"]"
   ]
  },
  {
   "cell_type": "code",
   "execution_count": 5,
   "id": "c0fb99d9-9f64-46af-817d-11958644de5b",
   "metadata": {},
   "outputs": [],
   "source": [
    "# Identify numeric and categorical columns\n",
    "numerical_cols = X.select_dtypes(include=[\"int64\", \"float64\"]).columns\n",
    "categorical_cols = X.select_dtypes(include=[\"object\", \"category\"]).columns"
   ]
  },
  {
   "cell_type": "code",
   "execution_count": 6,
   "id": "ea2f4d61-23d4-4fb3-a439-5a2a03f4c5b6",
   "metadata": {},
   "outputs": [],
   "source": [
    "# One-hot encode categorical columns\n",
    "X_encoded = pd.get_dummies(X, columns=categorical_cols, drop_first=True)"
   ]
  },
  {
   "cell_type": "code",
   "execution_count": 7,
   "id": "720f55dc-1aa0-4ac1-a6fb-daf2ea9c43fc",
   "metadata": {},
   "outputs": [],
   "source": [
    "# Split before scaling\n",
    "X_train, X_test, y_train, y_test = train_test_split(X_encoded, y, test_size=0.2, random_state=42, stratify=y)"
   ]
  },
  {
   "cell_type": "code",
   "execution_count": 8,
   "id": "b31881cc-7e7c-4d59-9bc3-cb486469ea32",
   "metadata": {},
   "outputs": [],
   "source": [
    "# Scale only numerical columns\n",
    "scaler = StandardScaler()\n",
    "X_train[numerical_cols] = scaler.fit_transform(X_train[numerical_cols])\n",
    "X_test[numerical_cols] = scaler.transform(X_test[numerical_cols])"
   ]
  },
  {
   "cell_type": "markdown",
   "id": "a9f714ba-8ea1-4d33-b44c-25290a66cbd1",
   "metadata": {},
   "source": [
    "# SVM - Support Vector Machine"
   ]
  },
  {
   "cell_type": "code",
   "execution_count": 9,
   "id": "abcc6cc0-b692-4973-b556-573ddfca2b43",
   "metadata": {},
   "outputs": [],
   "source": [
    "svm_model = SVC(kernel='rbf', C=1.0, random_state=42)\n",
    "svm_model.fit(X_train, y_train)\n",
    "y_pred_svm = svm_model.predict(X_test)"
   ]
  },
  {
   "cell_type": "code",
   "execution_count": 10,
   "id": "06e006ee-47e6-4829-8f13-39c4440fbebd",
   "metadata": {},
   "outputs": [
    {
     "name": "stdout",
     "output_type": "stream",
     "text": [
      "Accuracy: 0.9461\n",
      "              precision    recall  f1-score   support\n",
      "\n",
      "           0       0.93      0.93      0.93       323\n",
      "           1       0.96      0.96      0.96       531\n",
      "\n",
      "    accuracy                           0.95       854\n",
      "   macro avg       0.94      0.94      0.94       854\n",
      "weighted avg       0.95      0.95      0.95       854\n",
      "\n"
     ]
    },
    {
     "data": {
      "text/plain": [
       "<sklearn.metrics._plot.confusion_matrix.ConfusionMatrixDisplay at 0x7fb1a87c1610>"
      ]
     },
     "execution_count": 10,
     "metadata": {},
     "output_type": "execute_result"
    },
    {
     "data": {
      "image/png": "[encoded data removed]",
      "text/plain": [
       "<Figure size 640x480 with 2 Axes>"
      ]
     },
     "metadata": {},
     "output_type": "display_data"
    }
   ],
   "source": [
    "print(f\"Accuracy: {accuracy_score(y_test, y_pred_svm):.4f}\")\n",
    "print(classification_report(y_test, y_pred_svm))\n",
    "ConfusionMatrixDisplay(confusion_matrix(y_test, y_pred_svm)).plot()"
   ]
  },
  {
   "cell_type": "markdown",
   "id": "5150087a-e805-4c89-b914-34029915399b",
   "metadata": {},
   "source": [
    "## SVM with Grid Search"
   ]
  },
  {
   "cell_type": "code",
   "execution_count": 11,
   "id": "2a60622a-54a9-48a1-9363-2b17c4639b6c",
   "metadata": {},
   "outputs": [],
   "source": [
    "param_grid = {\n",
    "    'C': [0.1, 1, 10, 100],\n",
    "    'gamma': ['scale', 0.001, 0.01, 0.1, 1],\n",
    "    'kernel': ['rbf', 'linear', 'poly']\n",
    "}"
   ]
  },
  {
   "cell_type": "code",
   "execution_count": 12,
   "id": "1bd55744-fd68-4de0-8ff8-cced902abcb1",
   "metadata": {},
   "outputs": [],
   "source": [
    "svm = SVC()\n",
    "\n",
    "# Perform GridSearchCV\n",
    "grid_svm = GridSearchCV(estimator=svm, param_grid=param_grid, \n",
    "                        cv=5, scoring='accuracy', verbose=2, n_jobs=-1)"
   ]
  },
  {
   "cell_type": "code",
   "execution_count": 13,
   "id": "e2f97d19-50fd-4226-b9b7-c5d138602db9",
   "metadata": {
    "scrolled": true
   },
   "outputs": [
    {
     "name": "stdout",
     "output_type": "stream",
     "text": [
      "Fitting 5 folds for each of 60 candidates, totalling 300 fits\n",
      "[CV] END ...................C=0.1, gamma=0.01, kernel=linear; total time=   0.4s\n",
      "[CV] END .......................C=1, gamma=scale, kernel=rbf; total time=   0.5s\n",
      "[CV] END ........................C=1, gamma=0.01, kernel=rbf; total time=   0.9s\n",
      "[CV] END ...................C=10, gamma=scale, kernel=linear; total time=   1.9s\n",
      "[CV] END ..........................C=10, gamma=1, kernel=rbf; total time=   2.0s\n",
      "[CV] END .....................C=100, gamma=0.01, kernel=poly; total time=   0.4s\n",
      "[CV] END ......................C=100, gamma=0.1, kernel=poly; total time=   1.6s\n",
      "[CV] END .....................C=0.1, gamma=0.001, kernel=rbf; total time=   1.3s\n",
      "[CV] END .......................C=1, gamma=0.01, kernel=poly; total time=   2.1s\n",
      "[CV] END .....................C=10, gamma=0.1, kernel=linear; total time=   1.3s\n",
      "[CV] END .....................C=100, gamma=0.001, kernel=rbf; total time=   0.4s\n",
      "[CV] END ....................C=100, gamma=0.001, kernel=poly; total time=   0.8s\n",
      "[CV] END .....................C=100, gamma=0.01, kernel=poly; total time=   0.5s\n",
      "[CV] END .........................C=100, gamma=1, kernel=rbf; total time=   1.7s\n",
      "[CV] END ....................C=0.1, gamma=0.001, kernel=poly; total time=   0.7s\n",
      "[CV] END ......................C=0.1, gamma=1, kernel=linear; total time=   0.2s\n",
      "[CV] END ....................C=1, gamma=scale, kernel=linear; total time=   0.5s\n",
      "[CV] END .....................C=1, gamma=0.01, kernel=linear; total time=   0.5s\n",
      "[CV] END ........................C=1, gamma=0.1, kernel=poly; total time=   0.6s\n",
      "[CV] END ......................C=10, gamma=0.001, kernel=rbf; total time=   1.0s\n",
      "[CV] END ........................C=10, gamma=0.1, kernel=rbf; total time=   0.6s\n",
      "[CV] END ..........................C=10, gamma=1, kernel=rbf; total time=   1.4s\n",
      "[CV] END ......................C=100, gamma=0.01, kernel=rbf; total time=   0.5s\n",
      "[CV] END .....................C=100, gamma=0.01, kernel=poly; total time=   0.5s\n",
      "[CV] END .........................C=100, gamma=1, kernel=rbf; total time=   1.9s\n",
      "[CV] END ....................C=0.1, gamma=scale, kernel=poly; total time=   0.6s\n",
      "[CV] END ......................C=0.1, gamma=1, kernel=linear; total time=   0.6s\n",
      "[CV] END .......................C=1, gamma=0.001, kernel=rbf; total time=   0.6s\n",
      "[CV] END ......................C=1, gamma=0.1, kernel=linear; total time=   0.7s\n",
      "[CV] END .....................C=10, gamma=scale, kernel=poly; total time=   0.9s\n",
      "[CV] END ......................C=10, gamma=0.01, kernel=poly; total time=   1.7s\n",
      "[CV] END ....................C=100, gamma=0.001, kernel=poly; total time=   1.7s\n",
      "[CV] END .........................C=100, gamma=1, kernel=rbf; total time=   2.0s\n",
      "[CV] END ....................C=0.1, gamma=scale, kernel=poly; total time=   0.4s\n",
      "[CV] END ....................C=0.1, gamma=0.1, kernel=linear; total time=   0.3s\n",
      "[CV] END .........................C=0.1, gamma=1, kernel=rbf; total time=   2.6s\n",
      "[CV] END ....................C=10, gamma=0.01, kernel=linear; total time=   1.4s\n",
      "[CV] END ..................C=100, gamma=scale, kernel=linear; total time=   4.2s\n",
      "[CV] END .....................C=0.1, gamma=0.001, kernel=rbf; total time=   1.5s\n",
      "[CV] END ...........................C=1, gamma=1, kernel=rbf; total time=   2.3s\n",
      "[CV] END .....................C=100, gamma=scale, kernel=rbf; total time=   1.2s\n",
      "[CV] END ......................C=100, gamma=0.01, kernel=rbf; total time=   1.0s\n",
      "[CV] END ......................C=100, gamma=0.1, kernel=poly; total time=   2.2s\n",
      "[CV] END .....................C=0.1, gamma=0.01, kernel=poly; total time=   1.5s\n",
      "[CV] END ...................C=10, gamma=0.001, kernel=linear; total time=   1.9s\n",
      "[CV] END .....................C=100, gamma=scale, kernel=rbf; total time=   0.6s\n",
      "[CV] END ..................C=100, gamma=0.001, kernel=linear; total time=   3.8s\n",
      "[CV] END .....................C=0.1, gamma=0.001, kernel=rbf; total time=   0.9s\n",
      "[CV] END .......................C=1, gamma=scale, kernel=rbf; total time=   1.0s\n",
      "[CV] END ...........................C=1, gamma=1, kernel=rbf; total time=   2.7s\n",
      "[CV] END ....................C=100, gamma=scale, kernel=poly; total time=   1.6s\n",
      "[CV] END .......................C=100, gamma=0.1, kernel=rbf; total time=   0.4s\n",
      "[CV] END ......................C=100, gamma=0.1, kernel=poly; total time=   2.2s\n",
      "[CV] END ..................C=0.1, gamma=scale, kernel=linear; total time=   0.2s\n",
      "[CV] END ....................C=0.1, gamma=0.1, kernel=linear; total time=   0.5s\n",
      "[CV] END .........................C=0.1, gamma=1, kernel=rbf; total time=   2.0s\n",
      "[CV] END ......................C=10, gamma=0.001, kernel=rbf; total time=   0.9s\n",
      "[CV] END ........................C=10, gamma=0.1, kernel=rbf; total time=   0.8s\n",
      "[CV] END .......................C=10, gamma=1, kernel=linear; total time=   1.9s\n",
      "[CV] END .......................C=100, gamma=0.1, kernel=rbf; total time=   0.5s\n",
      "[CV] END ......................C=100, gamma=0.1, kernel=poly; total time=   2.2s\n",
      "[CV] END ..................C=0.1, gamma=scale, kernel=linear; total time=   0.4s\n",
      "[CV] END ....................C=0.1, gamma=0.1, kernel=linear; total time=   0.2s\n",
      "[CV] END ......................C=0.1, gamma=0.1, kernel=poly; total time=   0.4s\n",
      "[CV] END .......................C=1, gamma=scale, kernel=rbf; total time=   0.3s\n",
      "[CV] END ....................C=1, gamma=0.001, kernel=linear; total time=   0.4s\n",
      "[CV] END .........................C=1, gamma=0.1, kernel=rbf; total time=   0.3s\n",
      "[CV] END ...........................C=1, gamma=1, kernel=rbf; total time=   2.0s\n",
      "[CV] END .......................C=10, gamma=0.1, kernel=poly; total time=   0.5s\n",
      "[CV] END ..................C=100, gamma=scale, kernel=linear; total time=   4.6s\n",
      "[CV] END ..................C=0.1, gamma=scale, kernel=linear; total time=   0.3s\n",
      "[CV] END ....................C=0.1, gamma=0.1, kernel=linear; total time=   0.4s\n",
      "[CV] END .........................C=0.1, gamma=1, kernel=rbf; total time=   1.2s\n",
      "[CV] END ......................C=1, gamma=0.1, kernel=linear; total time=   0.7s\n",
      "[CV] END ......................C=10, gamma=scale, kernel=rbf; total time=   0.6s\n",
      "[CV] END ....................C=10, gamma=0.01, kernel=linear; total time=   1.9s\n",
      "[CV] END .....................C=100, gamma=0.001, kernel=rbf; total time=   0.7s\n",
      "[CV] END ......................C=100, gamma=0.01, kernel=rbf; total time=   0.5s\n",
      "[CV] END .....................C=100, gamma=0.01, kernel=poly; total time=   0.6s\n",
      "[CV] END ......................C=100, gamma=0.1, kernel=poly; total time=   2.5s\n",
      "[CV] END .......................C=0.1, gamma=0.1, kernel=rbf; total time=   0.8s\n",
      "[CV] END ........................C=1, gamma=0.01, kernel=rbf; total time=   0.7s\n",
      "[CV] END ...........................C=1, gamma=1, kernel=rbf; total time=   2.4s\n",
      "[CV] END .....................C=100, gamma=scale, kernel=rbf; total time=   0.5s\n",
      "[CV] END ..................C=100, gamma=0.001, kernel=linear; total time=   4.4s\n",
      "[CV] END ..................C=0.1, gamma=0.001, kernel=linear; total time=   0.3s\n",
      "[CV] END .........................C=0.1, gamma=1, kernel=rbf; total time=   1.8s\n",
      "[CV] END ...................C=10, gamma=scale, kernel=linear; total time=   1.7s\n",
      "[CV] END .......................C=10, gamma=0.1, kernel=poly; total time=   0.5s\n",
      "[CV] END ..................C=100, gamma=scale, kernel=linear; total time=   4.8s\n",
      "[CV] END ..................C=0.1, gamma=0.001, kernel=linear; total time=   0.4s\n",
      "[CV] END ....................C=1, gamma=scale, kernel=linear; total time=   0.3s\n",
      "[CV] END ......................C=1, gamma=0.001, kernel=poly; total time=   1.4s\n",
      "[CV] END .....................C=10, gamma=0.001, kernel=poly; total time=   1.8s\n",
      "[CV] END ..................C=100, gamma=scale, kernel=linear; total time=   4.9s\n",
      "[CV] END .....................C=0.1, gamma=0.01, kernel=poly; total time=   0.9s\n",
      "[CV] END ........................C=1, gamma=0.01, kernel=rbf; total time=   0.7s\n",
      "[CV] END ........................C=1, gamma=1, kernel=linear; total time=   0.6s\n",
      "[CV] END .....................C=10, gamma=0.001, kernel=poly; total time=   1.8s\n",
      "[CV] END ..................C=100, gamma=scale, kernel=linear; total time=   4.9s\n",
      "[CV] END ...................C=0.1, gamma=0.01, kernel=linear; total time=   0.3s\n",
      "[CV] END ........................C=0.1, gamma=1, kernel=poly; total time=   4.3s\n",
      "[CV] END ..................C=100, gamma=0.001, kernel=linear; total time=   4.6s\n",
      "[CV] END .....................C=0.1, gamma=0.01, kernel=poly; total time=   1.2s\n",
      "[CV] END ........................C=1, gamma=0.1, kernel=poly; total time=   0.8s\n",
      "[CV] END ...................C=10, gamma=0.001, kernel=linear; total time=   1.6s\n",
      "[CV] END .......................C=10, gamma=1, kernel=linear; total time=   1.7s\n",
      "[CV] END ...................C=100, gamma=0.01, kernel=linear; total time=   3.6s\n",
      "[CV] END ..................C=0.1, gamma=scale, kernel=linear; total time=   0.2s\n",
      "[CV] END .......................C=0.1, gamma=0.1, kernel=rbf; total time=   0.8s\n",
      "[CV] END ........................C=0.1, gamma=1, kernel=poly; total time=   1.8s\n",
      "[CV] END ......................C=10, gamma=0.001, kernel=rbf; total time=   0.8s\n",
      "[CV] END ........................C=10, gamma=0.1, kernel=rbf; total time=   0.6s\n",
      "[CV] END ..........................C=10, gamma=1, kernel=rbf; total time=   2.4s\n",
      "[CV] END ....................C=100, gamma=0.1, kernel=linear; total time=   3.1s\n",
      "[CV] END ...................C=0.1, gamma=0.01, kernel=linear; total time=   0.3s\n",
      "[CV] END ......................C=0.1, gamma=1, kernel=linear; total time=   0.5s\n",
      "[CV] END .......................C=1, gamma=0.001, kernel=rbf; total time=   0.9s\n",
      "[CV] END ........................C=1, gamma=1, kernel=linear; total time=   0.7s\n",
      "[CV] END .......................C=10, gamma=0.01, kernel=rbf; total time=   0.8s\n",
      "[CV] END .....................C=10, gamma=0.1, kernel=linear; total time=   2.4s\n",
      "[CV] END ...................C=100, gamma=0.01, kernel=linear; total time=   3.6s\n",
      "[CV] END ......................C=0.1, gamma=0.01, kernel=rbf; total time=   0.9s\n",
      "[CV] END .....................C=1, gamma=0.01, kernel=linear; total time=   0.4s\n",
      "[CV] END ........................C=1, gamma=0.1, kernel=poly; total time=   0.7s\n",
      "[CV] END ...................C=10, gamma=0.001, kernel=linear; total time=   1.3s\n",
      "[CV] END .......................C=10, gamma=0.1, kernel=poly; total time=   0.4s\n",
      "[CV] END .....................C=100, gamma=scale, kernel=rbf; total time=   0.5s\n",
      "[CV] END .....................C=100, gamma=0.001, kernel=rbf; total time=   0.9s\n",
      "[CV] END ...................C=100, gamma=0.01, kernel=linear; total time=   4.0s\n",
      "[CV] END ..................C=0.1, gamma=0.001, kernel=linear; total time=   0.4s\n",
      "[CV] END ....................C=1, gamma=scale, kernel=linear; total time=   0.6s\n",
      "[CV] END .........................C=1, gamma=0.1, kernel=rbf; total time=   0.7s\n",
      "[CV] END ......................C=10, gamma=scale, kernel=rbf; total time=   0.6s\n",
      "[CV] END .......................C=10, gamma=0.01, kernel=rbf; total time=   0.5s\n",
      "[CV] END ......................C=10, gamma=0.01, kernel=poly; total time=   1.6s\n",
      "[CV] END ..................C=100, gamma=0.001, kernel=linear; total time=   4.9s\n",
      "[CV] END .......................C=0.1, gamma=0.1, kernel=rbf; total time=   0.6s\n",
      "[CV] END ......................C=1, gamma=scale, kernel=poly; total time=   0.5s\n",
      "[CV] END .......................C=1, gamma=0.01, kernel=poly; total time=   0.9s\n",
      "[CV] END .....................C=10, gamma=scale, kernel=poly; total time=   0.6s\n",
      "[CV] END ....................C=10, gamma=0.01, kernel=linear; total time=   1.8s\n",
      "[CV] END .....................C=100, gamma=0.001, kernel=rbf; total time=   0.4s\n",
      "[CV] END ....................C=100, gamma=0.001, kernel=poly; total time=   1.0s\n",
      "[CV] END ....................C=100, gamma=0.1, kernel=linear; total time=   3.6s\n",
      "[CV] END ....................C=0.1, gamma=scale, kernel=poly; total time=   0.4s\n",
      "[CV] END ........................C=0.1, gamma=1, kernel=poly; total time=   3.2s\n",
      "[CV] END .......................C=10, gamma=0.1, kernel=poly; total time=   1.0s\n",
      "[CV] END ..................C=100, gamma=0.001, kernel=linear; total time=   4.9s\n",
      "[CV] END ...................C=0.1, gamma=0.01, kernel=linear; total time=   0.3s\n",
      "[CV] END ......................C=0.1, gamma=0.1, kernel=poly; total time=   0.8s\n",
      "[CV] END .......................C=1, gamma=0.001, kernel=rbf; total time=   1.1s\n",
      "[CV] END ......................C=10, gamma=scale, kernel=rbf; total time=   0.6s\n",
      "[CV] END .......................C=10, gamma=0.01, kernel=rbf; total time=   0.7s\n",
      "[CV] END .....................C=10, gamma=0.1, kernel=linear; total time=   1.8s\n",
      "[CV] END ....................C=100, gamma=0.001, kernel=poly; total time=   1.4s\n",
      "[CV] END ......................C=100, gamma=1, kernel=linear; total time=   3.1s\n",
      "[CV] END .......................C=0.1, gamma=0.1, kernel=rbf; total time=   0.6s\n",
      "[CV] END ....................C=1, gamma=scale, kernel=linear; total time=   0.3s\n",
      "[CV] END ......................C=1, gamma=0.001, kernel=poly; total time=   0.8s\n",
      "[CV] END ........................C=1, gamma=1, kernel=linear; total time=   0.3s\n",
      "[CV] END ...................C=10, gamma=scale, kernel=linear; total time=   2.3s\n",
      "[CV] END ....................C=100, gamma=scale, kernel=poly; total time=   1.8s\n",
      "[CV] END ....................C=100, gamma=0.1, kernel=linear; total time=   3.6s\n",
      "[CV] END ....................C=0.1, gamma=0.001, kernel=poly; total time=   0.7s\n",
      "[CV] END ......................C=0.1, gamma=1, kernel=linear; total time=   0.8s\n",
      "[CV] END ........................C=1, gamma=0.01, kernel=rbf; total time=   1.1s\n",
      "[CV] END .....................C=10, gamma=scale, kernel=poly; total time=   1.3s\n",
      "[CV] END .....................C=10, gamma=0.1, kernel=linear; total time=   2.2s\n",
      "[CV] END ...................C=100, gamma=0.01, kernel=linear; total time=   4.2s\n",
      "[CV] END .....................C=0.1, gamma=scale, kernel=rbf; total time=   0.8s\n",
      "[CV] END ........................C=0.1, gamma=1, kernel=poly; total time=   1.5s\n",
      "[CV] END ..........................C=1, gamma=1, kernel=poly; total time=   7.9s\n",
      "[CV] END .....................C=0.1, gamma=0.001, kernel=rbf; total time=   1.1s\n",
      "[CV] END ......................C=1, gamma=0.001, kernel=poly; total time=   2.1s\n",
      "[CV] END ......................C=10, gamma=0.01, kernel=poly; total time=   2.5s\n",
      "[CV] END ...................C=100, gamma=0.01, kernel=linear; total time=   4.2s\n",
      "[CV] END ....................C=0.1, gamma=scale, kernel=poly; total time=   0.7s\n",
      "[CV] END ......................C=0.1, gamma=1, kernel=linear; total time=   0.5s\n",
      "[CV] END ....................C=1, gamma=0.001, kernel=linear; total time=   0.6s\n",
      "[CV] END ........................C=1, gamma=0.1, kernel=poly; total time=   1.0s\n",
      "[CV] END .......................C=10, gamma=0.01, kernel=rbf; total time=   1.1s\n",
      "[CV] END ..........................C=10, gamma=1, kernel=rbf; total time=   2.1s\n",
      "[CV] END .......................C=100, gamma=0.1, kernel=rbf; total time=   0.9s\n",
      "[CV] END ......................C=100, gamma=1, kernel=linear; total time=   3.1s\n",
      "[CV] END ...................C=0.1, gamma=0.01, kernel=linear; total time=   0.6s\n",
      "[CV] END ....................C=1, gamma=0.001, kernel=linear; total time=   0.6s\n",
      "[CV] END ......................C=1, gamma=0.1, kernel=linear; total time=   0.6s\n",
      "[CV] END ...................C=10, gamma=scale, kernel=linear; total time=   1.3s\n",
      "[CV] END .....................C=10, gamma=0.1, kernel=linear; total time=   1.5s\n",
      "[CV] END ....................C=100, gamma=0.001, kernel=poly; total time=   1.8s\n",
      "[CV] END ......................C=100, gamma=1, kernel=linear; total time=   3.3s\n",
      "[CV] END ....................C=0.1, gamma=0.001, kernel=poly; total time=   1.0s\n",
      "[CV] END .........................C=1, gamma=0.1, kernel=rbf; total time=   1.1s\n",
      "[CV] END ...................C=10, gamma=0.001, kernel=linear; total time=   1.6s\n",
      "[CV] END .......................C=10, gamma=1, kernel=linear; total time=   1.9s\n",
      "[CV] END .....................C=100, gamma=0.01, kernel=poly; total time=   0.9s\n",
      "[CV] END ......................C=100, gamma=1, kernel=linear; total time=   3.3s\n",
      "[CV] END .....................C=0.1, gamma=0.01, kernel=poly; total time=   0.8s\n",
      "[CV] END ....................C=1, gamma=scale, kernel=linear; total time=   0.3s\n",
      "[CV] END ......................C=1, gamma=0.001, kernel=poly; total time=   1.4s\n",
      "[CV] END .....................C=10, gamma=0.001, kernel=poly; total time=   1.8s\n",
      "[CV] END .....................C=100, gamma=scale, kernel=rbf; total time=   1.1s\n",
      "[CV] END ......................C=100, gamma=0.01, kernel=rbf; total time=   0.8s\n",
      "[CV] END ....................C=100, gamma=0.1, kernel=linear; total time=   4.0s\n",
      "[CV] END .....................C=0.1, gamma=scale, kernel=rbf; total time=   0.8s\n",
      "[CV] END ......................C=1, gamma=scale, kernel=poly; total time=   0.9s\n",
      "[CV] END ........................C=1, gamma=0.1, kernel=poly; total time=   0.5s\n",
      "[CV] END .....................C=10, gamma=scale, kernel=poly; total time=   1.1s\n",
      "[CV] END ........................C=10, gamma=0.1, kernel=rbf; total time=   0.8s\n",
      "[CV] END .......................C=10, gamma=1, kernel=linear; total time=   1.8s\n",
      "[CV] END .......................C=100, gamma=0.1, kernel=rbf; total time=   0.8s\n",
      "[CV] END ......................C=100, gamma=1, kernel=linear; total time=   3.7s\n",
      "[CV] END ......................C=0.1, gamma=0.01, kernel=rbf; total time=   0.6s\n",
      "[CV] END .......................C=1, gamma=scale, kernel=rbf; total time=   0.3s\n",
      "[CV] END ....................C=1, gamma=0.001, kernel=linear; total time=   0.4s\n",
      "[CV] END .........................C=1, gamma=0.1, kernel=rbf; total time=   0.7s\n",
      "[CV] END ..........................C=1, gamma=1, kernel=poly; total time=   8.5s\n",
      "[CV] END .....................C=0.1, gamma=0.001, kernel=rbf; total time=   1.1s\n",
      "[CV] END .......................C=1, gamma=0.001, kernel=rbf; total time=   1.4s\n",
      "[CV] END ......................C=10, gamma=0.001, kernel=rbf; total time=   0.9s\n",
      "[CV] END ........................C=10, gamma=0.1, kernel=rbf; total time=   0.7s\n",
      "[CV] END .......................C=10, gamma=1, kernel=linear; total time=   2.1s\n",
      "[CV] END ....................C=100, gamma=0.1, kernel=linear; total time=   4.6s\n",
      "[CV] END .....................C=0.1, gamma=scale, kernel=rbf; total time=   0.8s\n",
      "[CV] END .........................C=0.1, gamma=1, kernel=rbf; total time=   1.8s\n",
      "[CV] END ..........................C=1, gamma=1, kernel=poly; total time=   9.5s\n",
      "[CV] END ......................C=0.1, gamma=0.01, kernel=rbf; total time=   0.8s\n",
      "[CV] END .......................C=1, gamma=0.001, kernel=rbf; total time=   1.1s\n",
      "[CV] END ..........................C=1, gamma=1, kernel=poly; total time=  10.2s\n",
      "[CV] END .....................C=0.1, gamma=0.01, kernel=poly; total time=   1.1s\n",
      "[CV] END ........................C=1, gamma=0.01, kernel=rbf; total time=   0.9s\n",
      "[CV] END ..........................C=1, gamma=1, kernel=poly; total time=  10.8s\n",
      "[CV] END ..................C=0.1, gamma=0.001, kernel=linear; total time=   0.2s\n",
      "[CV] END ......................C=0.1, gamma=0.1, kernel=poly; total time=   0.6s\n",
      "[CV] END .......................C=1, gamma=scale, kernel=rbf; total time=   0.6s\n",
      "[CV] END .......................C=1, gamma=0.01, kernel=poly; total time=   0.9s\n",
      "[CV] END .....................C=10, gamma=scale, kernel=poly; total time=   0.8s\n",
      "[CV] END ......................C=10, gamma=0.01, kernel=poly; total time=   1.0s\n",
      "[CV] END .........................C=10, gamma=1, kernel=poly; total time=  31.0s\n",
      "[CV] END ......................C=0.1, gamma=0.01, kernel=rbf; total time=   1.0s\n",
      "[CV] END ......................C=1, gamma=scale, kernel=poly; total time=   0.5s\n",
      "[CV] END .......................C=1, gamma=0.01, kernel=poly; total time=   0.8s\n",
      "[CV] END ......................C=10, gamma=scale, kernel=rbf; total time=   0.4s\n",
      "[CV] END .....................C=10, gamma=0.001, kernel=poly; total time=   1.6s\n",
      "[CV] END .........................C=10, gamma=1, kernel=poly; total time=  35.4s\n",
      "[CV] END ......................C=0.1, gamma=0.01, kernel=rbf; total time=   1.1s\n",
      "[CV] END .....................C=1, gamma=0.01, kernel=linear; total time=   0.6s\n",
      "[CV] END ........................C=1, gamma=1, kernel=linear; total time=   0.6s\n",
      "[CV] END ...................C=10, gamma=0.001, kernel=linear; total time=   1.7s\n",
      "[CV] END .........................C=10, gamma=1, kernel=poly; total time=  37.4s\n",
      "[CV] END .....................C=0.1, gamma=scale, kernel=rbf; total time=   0.5s\n",
      "[CV] END ......................C=0.1, gamma=0.1, kernel=poly; total time=   1.0s\n",
      "[CV] END .....................C=1, gamma=0.01, kernel=linear; total time=   0.6s\n",
      "[CV] END ...........................C=1, gamma=1, kernel=rbf; total time=   2.3s\n",
      "[CV] END .........................C=10, gamma=1, kernel=poly; total time=  43.3s\n",
      "[CV] END ....................C=0.1, gamma=0.001, kernel=poly; total time=   1.1s\n",
      "[CV] END ....................C=1, gamma=0.001, kernel=linear; total time=   0.5s\n",
      "[CV] END ......................C=1, gamma=0.1, kernel=linear; total time=   0.3s\n",
      "[CV] END ........................C=1, gamma=1, kernel=linear; total time=   0.5s\n",
      "[CV] END ......................C=10, gamma=0.001, kernel=rbf; total time=   0.5s\n",
      "[CV] END ....................C=10, gamma=0.01, kernel=linear; total time=   1.2s\n",
      "[CV] END .........................C=10, gamma=1, kernel=poly; total time=  55.1s\n",
      "[CV] END .....................C=0.1, gamma=scale, kernel=rbf; total time=   0.7s\n",
      "[CV] END ......................C=1, gamma=scale, kernel=poly; total time=   0.4s\n",
      "[CV] END .....................C=1, gamma=0.01, kernel=linear; total time=   0.3s\n",
      "[CV] END ......................C=1, gamma=0.1, kernel=linear; total time=   0.6s\n",
      "[CV] END ...................C=10, gamma=scale, kernel=linear; total time=   1.7s\n",
      "[CV] END ..........................C=10, gamma=1, kernel=rbf; total time=   2.6s\n",
      "[CV] END .........................C=100, gamma=1, kernel=rbf; total time=   1.3s\n",
      "[CV] END ........................C=100, gamma=1, kernel=poly; total time= 3.3min\n",
      "[CV] END ..................C=0.1, gamma=0.001, kernel=linear; total time=   0.3s\n",
      "[CV] END ....................C=0.1, gamma=0.1, kernel=linear; total time=   0.4s\n",
      "[CV] END ........................C=0.1, gamma=1, kernel=poly; total time=   4.1s\n",
      "[CV] END ....................C=100, gamma=scale, kernel=poly; total time=   2.6s\n",
      "[CV] END ........................C=100, gamma=1, kernel=poly; total time= 3.5min\n"
     ]
    }
   ],
   "source": [
    "# Fit the model\n",
    "grid_svm.fit(X_train, y_train)\n",
    "\n",
    "# Predict on test set\n",
    "y_pred = grid_svm.predict(X_test)"
   ]
  },
  {
   "cell_type": "code",
   "execution_count": 14,
   "id": "b6fd07dd-95a5-4ea6-ba0a-d78532b5ff2a",
   "metadata": {},
   "outputs": [
    {
     "name": "stdout",
     "output_type": "stream",
     "text": [
      "Best parameters found: {'C': 10, 'gamma': 0.1, 'kernel': 'rbf'}\n",
      "Best cross-validated accuracy: 94.55%\n",
      "Test set accuracy: 95.55%\n",
      "\n",
      "Classification Report:\n",
      "               precision    recall  f1-score   support\n",
      "\n",
      "           0       0.94      0.94      0.94       323\n",
      "           1       0.96      0.97      0.96       531\n",
      "\n",
      "    accuracy                           0.96       854\n",
      "   macro avg       0.95      0.95      0.95       854\n",
      "weighted avg       0.96      0.96      0.96       854\n",
      "\n"
     ]
    }
   ],
   "source": [
    "print(\"Best parameters found:\", grid_svm.best_params_)\n",
    "print(\"Best cross-validated accuracy: {:.2f}%\".format(grid_svm.best_score_ * 100))\n",
    "print(\"Test set accuracy: {:.2f}%\".format(accuracy_score(y_test, y_pred) * 100))\n",
    "print(\"\\nClassification Report:\\n\", classification_report(y_test, y_pred))"
   ]
  },
  {
   "cell_type": "markdown",
   "id": "e77b9212-712f-4499-9efb-b86bed643fc1",
   "metadata": {},
   "source": [
    "# GaussianNB - Naive Bayes"
   ]
  },
  {
   "cell_type": "code",
   "execution_count": 15,
   "id": "2b617da5-7a9e-4ed8-9e9a-83d920452c05",
   "metadata": {},
   "outputs": [],
   "source": [
    "nb_model = GaussianNB()\n",
    "nb_model.fit(X_train, y_train)\n",
    "y_pred_nb = nb_model.predict(X_test)"
   ]
  },
  {
   "cell_type": "code",
   "execution_count": 16,
   "id": "17983d5c-c06b-4457-af37-392fea1aaf85",
   "metadata": {},
   "outputs": [
    {
     "name": "stdout",
     "output_type": "stream",
     "text": [
      "Accuracy: 0.9485\n",
      "              precision    recall  f1-score   support\n",
      "\n",
      "           0       0.93      0.93      0.93       323\n",
      "           1       0.96      0.96      0.96       531\n",
      "\n",
      "    accuracy                           0.95       854\n",
      "   macro avg       0.95      0.95      0.95       854\n",
      "weighted avg       0.95      0.95      0.95       854\n",
      "\n"
     ]
    },
    {
     "data": {
      "text/plain": [
       "<sklearn.metrics._plot.confusion_matrix.ConfusionMatrixDisplay at 0x7fafd29474d0>"
      ]
     },
     "execution_count": 16,
     "metadata": {},
     "output_type": "execute_result"
    },
    {
     "data": {
      "image/png": "[encoded data removed]",
      "text/plain": [
       "<Figure size 640x480 with 2 Axes>"
      ]
     },
     "metadata": {},
     "output_type": "display_data"
    }
   ],
   "source": [
    "print(f\"Accuracy: {accuracy_score(y_test, y_pred_nb):.4f}\")\n",
    "print(classification_report(y_test, y_pred_nb))\n",
    "ConfusionMatrixDisplay(confusion_matrix(y_test, y_pred_nb)).plot()"
   ]
  },
  {
   "cell_type": "markdown",
   "id": "3f1d9479-c238-4ceb-a9f9-654e05d25312",
   "metadata": {},
   "source": [
    "# MLPClassifier - Multi-Layer-Perceptron"
   ]
  },
  {
   "cell_type": "code",
   "execution_count": 17,
   "id": "c4dffa66-8885-45d2-961f-ae07275ce2e9",
   "metadata": {},
   "outputs": [],
   "source": [
    "mlp_model = MLPClassifier(hidden_layer_sizes=(100,), max_iter=1000, random_state=42)\n",
    "mlp_model.fit(X_train, y_train)\n",
    "y_pred_mlp = mlp_model.predict(X_test)"
   ]
  },
  {
   "cell_type": "code",
   "execution_count": 18,
   "id": "f1f137d0-0f76-406d-86cc-13aff132c621",
   "metadata": {},
   "outputs": [
    {
     "name": "stdout",
     "output_type": "stream",
     "text": [
      "Accuracy: 0.9731\n",
      "              precision    recall  f1-score   support\n",
      "\n",
      "           0       0.97      0.95      0.96       323\n",
      "           1       0.97      0.98      0.98       531\n",
      "\n",
      "    accuracy                           0.97       854\n",
      "   macro avg       0.97      0.97      0.97       854\n",
      "weighted avg       0.97      0.97      0.97       854\n",
      "\n"
     ]
    },
    {
     "data": {
      "text/plain": [
       "<sklearn.metrics._plot.confusion_matrix.ConfusionMatrixDisplay at 0x7fb1924ee690>"
      ]
     },
     "execution_count": 18,
     "metadata": {},
     "output_type": "execute_result"
    },
    {
     "data": {
      "image/png": "[encoded data removed]",
      "text/plain": [
       "<Figure size 640x480 with 2 Axes>"
      ]
     },
     "metadata": {},
     "output_type": "display_data"
    },
    {
     "name": "stdout",
     "output_type": "stream",
     "text": [
      "[CV] END ....................C=0.1, gamma=0.001, kernel=poly; total time=   1.0s\n",
      "[CV] END .......................C=1, gamma=0.01, kernel=poly; total time=   1.5s\n",
      "[CV] END ....................C=10, gamma=0.01, kernel=linear; total time=   1.7s\n",
      "[CV] END ....................C=100, gamma=scale, kernel=poly; total time=   3.4s\n",
      "[CV] END ........................C=100, gamma=1, kernel=poly; total time= 5.6min\n",
      "[CV] END ..................C=0.1, gamma=scale, kernel=linear; total time=   0.2s\n",
      "[CV] END .......................C=0.1, gamma=0.1, kernel=rbf; total time=   0.6s\n",
      "[CV] END ......................C=0.1, gamma=0.1, kernel=poly; total time=   0.6s\n",
      "[CV] END ......................C=1, gamma=scale, kernel=poly; total time=   0.5s\n",
      "[CV] END .........................C=1, gamma=0.1, kernel=rbf; total time=   0.7s\n",
      "[CV] END ......................C=10, gamma=scale, kernel=rbf; total time=   0.5s\n",
      "[CV] END .......................C=10, gamma=0.01, kernel=rbf; total time=   0.6s\n",
      "[CV] END ......................C=10, gamma=0.01, kernel=poly; total time=   1.4s\n",
      "[CV] END .....................C=100, gamma=0.001, kernel=rbf; total time=   0.7s\n",
      "[CV] END ......................C=100, gamma=0.01, kernel=rbf; total time=   0.6s\n",
      "[CV] END .......................C=100, gamma=0.1, kernel=rbf; total time=   0.5s\n",
      "[CV] END .........................C=100, gamma=1, kernel=rbf; total time=   1.2s\n",
      "[CV] END ........................C=100, gamma=1, kernel=poly; total time= 5.7min\n",
      "[CV] END ....................C=0.1, gamma=scale, kernel=poly; total time=   1.0s\n",
      "[CV] END ......................C=1, gamma=0.001, kernel=poly; total time=   1.4s\n",
      "[CV] END .....................C=10, gamma=0.001, kernel=poly; total time=   1.2s\n",
      "[CV] END .......................C=10, gamma=0.1, kernel=poly; total time=   0.9s\n",
      "[CV] END ....................C=100, gamma=scale, kernel=poly; total time=   3.0s\n",
      "[CV] END ........................C=100, gamma=1, kernel=poly; total time= 8.8min\n"
     ]
    }
   ],
   "source": [
    "print(f\"Accuracy: {accuracy_score(y_test, y_pred_mlp):.4f}\")\n",
    "print(classification_report(y_test, y_pred_mlp))\n",
    "ConfusionMatrixDisplay(confusion_matrix(y_test, y_pred_mlp)).plot()"
   ]
  }
 ],
 "metadata": {
  "kernelspec": {
   "display_name": "Python 3 (ipykernel)",
   "language": "python",
   "name": "python3"
  },
  "language_info": {
   "codemirror_mode": {
    "name": "ipython",
    "version": 3
   },
   "file_extension": ".py",
   "mimetype": "text/x-python",
   "name": "python",
   "nbconvert_exporter": "python",
   "pygments_lexer": "ipython3",
   "version": "3.11.11"
  }
 },
 "nbformat": 4,
 "nbformat_minor": 5
}
