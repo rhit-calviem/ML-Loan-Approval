{
 "cells": [
  {
   "cell_type": "markdown",
   "id": "609b3d8a-43db-44ca-9352-f3ef689b54de",
   "metadata": {},
   "source": [
    "# Data Preprocess"
   ]
  },
  {
   "cell_type": "code",
   "execution_count": 122,
   "id": "89bff928-8133-4382-9740-ca1c695d25f8",
   "metadata": {},
   "outputs": [],
   "source": [
    "import pandas as pd\n",
    "import numpy as np\n",
    "from sklearn.model_selection import train_test_split, GridSearchCV\n",
    "from sklearn.preprocessing import StandardScaler, OneHotEncoder\n",
    "from sklearn.metrics import classification_report, confusion_matrix, ConfusionMatrixDisplay, accuracy_score\n",
    "from sklearn.svm import SVC\n",
    "from sklearn.naive_bayes import GaussianNB\n",
    "from sklearn.neural_network import MLPClassifier\n",
    "from sklearn.linear_model import Ridge, RidgeCV, Lasso, LassoCV\n",
    "from sklearn.metrics import mean_squared_error, mean_absolute_error\n",
    "\n",
    "\n",
    "\n",
    "from sklearn.ensemble import RandomForestRegressor, RandomForestClassifier\n",
    "from sklearn.model_selection import train_test_split, GridSearchCV, cross_validate\n",
    "from sklearn.tree import plot_tree\n",
    "import matplotlib.pyplot as plt"
   ]
  },
  {
   "cell_type": "code",
   "execution_count": 83,
   "id": "a8aa9c8b-5941-4f4c-9501-0bba461eefa0",
   "metadata": {},
   "outputs": [
    {
     "data": {
      "text/html": [
       "<div>\n",
       "<style scoped>\n",
       "    .dataframe tbody tr th:only-of-type {\n",
       "        vertical-align: middle;\n",
       "    }\n",
       "\n",
       "    .dataframe tbody tr th {\n",
       "        vertical-align: top;\n",
       "    }\n",
       "\n",
       "    .dataframe thead th {\n",
       "        text-align: right;\n",
       "    }\n",
       "</style>\n",
       "<table border=\"1\" class=\"dataframe\">\n",
       "  <thead>\n",
       "    <tr style=\"text-align: right;\">\n",
       "      <th></th>\n",
       "      <th>no_of_dependents</th>\n",
       "      <th>education</th>\n",
       "      <th>self_employed</th>\n",
       "      <th>income_annum</th>\n",
       "      <th>loan_amount</th>\n",
       "      <th>loan_term</th>\n",
       "      <th>cibil_score</th>\n",
       "      <th>residential_assets_value</th>\n",
       "      <th>commercial_assets_value</th>\n",
       "      <th>luxury_assets_value</th>\n",
       "      <th>bank_asset_value</th>\n",
       "      <th>loan_status</th>\n",
       "    </tr>\n",
       "  </thead>\n",
       "  <tbody>\n",
       "    <tr>\n",
       "      <th>0</th>\n",
       "      <td>2</td>\n",
       "      <td>Graduate</td>\n",
       "      <td>No</td>\n",
       "      <td>9600000</td>\n",
       "      <td>29900000</td>\n",
       "      <td>12</td>\n",
       "      <td>778</td>\n",
       "      <td>2400000</td>\n",
       "      <td>17600000</td>\n",
       "      <td>22700000</td>\n",
       "      <td>8000000</td>\n",
       "      <td>Approved</td>\n",
       "    </tr>\n",
       "    <tr>\n",
       "      <th>1</th>\n",
       "      <td>0</td>\n",
       "      <td>Not Graduate</td>\n",
       "      <td>Yes</td>\n",
       "      <td>4100000</td>\n",
       "      <td>12200000</td>\n",
       "      <td>8</td>\n",
       "      <td>417</td>\n",
       "      <td>2700000</td>\n",
       "      <td>2200000</td>\n",
       "      <td>8800000</td>\n",
       "      <td>3300000</td>\n",
       "      <td>Rejected</td>\n",
       "    </tr>\n",
       "    <tr>\n",
       "      <th>2</th>\n",
       "      <td>3</td>\n",
       "      <td>Graduate</td>\n",
       "      <td>No</td>\n",
       "      <td>9100000</td>\n",
       "      <td>29700000</td>\n",
       "      <td>20</td>\n",
       "      <td>506</td>\n",
       "      <td>7100000</td>\n",
       "      <td>4500000</td>\n",
       "      <td>33300000</td>\n",
       "      <td>12800000</td>\n",
       "      <td>Rejected</td>\n",
       "    </tr>\n",
       "  </tbody>\n",
       "</table>\n",
       "</div>"
      ],
      "text/plain": [
       "   no_of_dependents      education self_employed  income_annum  loan_amount  \\\n",
       "0                 2       Graduate            No       9600000     29900000   \n",
       "1                 0   Not Graduate           Yes       4100000     12200000   \n",
       "2                 3       Graduate            No       9100000     29700000   \n",
       "\n",
       "   loan_term  cibil_score  residential_assets_value  commercial_assets_value  \\\n",
       "0         12          778                   2400000                 17600000   \n",
       "1          8          417                   2700000                  2200000   \n",
       "2         20          506                   7100000                  4500000   \n",
       "\n",
       "   luxury_assets_value  bank_asset_value loan_status  \n",
       "0             22700000           8000000    Approved  \n",
       "1              8800000           3300000    Rejected  \n",
       "2             33300000          12800000    Rejected  "
      ]
     },
     "execution_count": 83,
     "metadata": {},
     "output_type": "execute_result"
    }
   ],
   "source": [
    "# Load dataset\n",
    "df = pd.read_csv(\"loan_approval_dataset.csv\")\n",
    "df = df.drop(columns=[\"loan_id\"])\n",
    "df.columns = df.columns.str.strip()\n",
    "df.head(3)"
   ]
  },
  {
   "cell_type": "code",
   "execution_count": 85,
   "id": "e0e52b39-06fd-404b-a079-473b2953e74e",
   "metadata": {},
   "outputs": [],
   "source": [
    "df[\"loan_status\"] = df[\"loan_status\"].str.strip().map({'Rejected': 0, 'Approved': 1})"
   ]
  },
  {
   "cell_type": "code",
   "execution_count": 87,
   "id": "06d8dd90-e530-4d2e-b607-92ff650d9242",
   "metadata": {},
   "outputs": [],
   "source": [
    "X = df.drop(columns=[\"loan_amount\"])\n",
    "y = df[\"loan_amount\"]"
   ]
  },
  {
   "cell_type": "code",
   "execution_count": 89,
   "id": "c0fb99d9-9f64-46af-817d-11958644de5b",
   "metadata": {},
   "outputs": [],
   "source": [
    "# Identify numeric and categorical columns\n",
    "numerical_cols = X.select_dtypes(include=[\"int64\", \"float64\"]).columns\n",
    "categorical_cols = X.select_dtypes(include=[\"object\", \"category\"]).columns"
   ]
  },
  {
   "cell_type": "code",
   "execution_count": 91,
   "id": "ea2f4d61-23d4-4fb3-a439-5a2a03f4c5b6",
   "metadata": {},
   "outputs": [],
   "source": [
    "# One-hot encode categorical columns\n",
    "X_encoded = pd.get_dummies(X, columns=categorical_cols, drop_first=True)"
   ]
  },
  {
   "cell_type": "code",
   "execution_count": 93,
   "id": "720f55dc-1aa0-4ac1-a6fb-daf2ea9c43fc",
   "metadata": {},
   "outputs": [],
   "source": [
    "# Split before scaling\n",
    "X_train, X_test, y_train, y_test = train_test_split(X_encoded, y, test_size=0.2, random_state=42)"
   ]
  },
  {
   "cell_type": "code",
   "execution_count": 95,
   "id": "b31881cc-7e7c-4d59-9bc3-cb486469ea32",
   "metadata": {},
   "outputs": [],
   "source": [
    "# Scale only numerical columns\n",
    "scaler = StandardScaler()\n",
    "X_train[numerical_cols] = scaler.fit_transform(X_train[numerical_cols])\n",
    "X_test[numerical_cols] = scaler.transform(X_test[numerical_cols])"
   ]
  },
  {
   "cell_type": "markdown",
   "id": "5854a766-cf89-4fdd-90c0-d00e10bcf743",
   "metadata": {},
   "source": [
    "# Histogram"
   ]
  },
  {
   "cell_type": "code",
   "execution_count": 135,
   "id": "933b4f22-8937-4b9e-a3d1-16def56a3899",
   "metadata": {},
   "outputs": [
    {
     "data": {
      "image/png": "[encoded data removed]",
      "text/plain": [
       "<Figure size 800x600 with 1 Axes>"
      ]
     },
     "metadata": {},
     "output_type": "display_data"
    },
    {
     "name": "stdout",
     "output_type": "stream",
     "text": [
      "90% CI for mean loan amount: [14905786.57, 15361114.34]\n"
     ]
    }
   ],
   "source": [
    "import matplotlib.pyplot as plt\n",
    "\n",
    "# ——— Histogram of loan_amount ———\n",
    "plt.figure(figsize=(8, 6))\n",
    "df['loan_amount'].hist(bins=30)      # adjust bins as you like\n",
    "plt.xlabel('Loan Amount')\n",
    "plt.ylabel('Frequency')\n",
    "plt.title('Distribution of Loan Amount')\n",
    "plt.tight_layout()\n",
    "plt.show()\n",
    "\n",
    "import numpy as np\n",
    "import scipy.stats as stats\n",
    "import matplotlib.pyplot as plt\n",
    "\n",
    "# ——— Compute 90% CI for the mean loan amount ———\n",
    "loan = df['loan_amount'].dropna()\n",
    "n = loan.size\n",
    "mean = loan.mean()\n",
    "se = stats.sem(loan)                    # standard error of the mean\n",
    "z = stats.norm.ppf(0.95)               # z-value for 90% two-tailed → 0.95 percentile\n",
    "ci_lower = mean - z * se\n",
    "ci_upper = mean + z * se\n",
    "print(f\"90% CI for mean loan amount: [{ci_lower:.2f}, {ci_upper:.2f}]\")"
   ]
  },
  {
   "cell_type": "markdown",
   "id": "c73e2ae8-6bfd-4be3-8b74-f1d0463ec19a",
   "metadata": {},
   "source": [
    "# Random Forest - Regression"
   ]
  },
  {
   "cell_type": "code",
   "execution_count": 118,
   "id": "f4530a56-521c-48e2-98a4-c6453fd5cfa1",
   "metadata": {},
   "outputs": [
    {
     "name": "stdout",
     "output_type": "stream",
     "text": [
      "\n",
      "         best B = {'n_estimators': 90}\n",
      "  validation R2 = 0.859\n"
     ]
    },
    {
     "data": {
      "text/plain": [
       "<Axes: xlabel='trees'>"
      ]
     },
     "execution_count": 118,
     "metadata": {},
     "output_type": "execute_result"
    },
    {
     "data": {
      "image/png": "[encoded data removed]",
      "text/plain": [
       "<Figure size 640x480 with 1 Axes>"
      ]
     },
     "metadata": {},
     "output_type": "display_data"
    }
   ],
   "source": [
    "B = np.arange(10,200,10)\n",
    "grid = {'n_estimators':B}\n",
    "\n",
    "rf = RandomForestRegressor(max_features = 1/3)\n",
    "rfCV = GridSearchCV(rf,param_grid=grid,return_train_score=True,n_jobs=-1)\n",
    "rfCV.fit(X_train,y_train)\n",
    "\n",
    "print()\n",
    "print('         best B =',rfCV.best_params_)\n",
    "print('  validation R2 =',rfCV.best_score_.round(3))\n",
    "\n",
    "results = pd.DataFrame()\n",
    "results['trees'] = grid['n_estimators']\n",
    "results['train R2'] = rfCV.cv_results_['mean_train_score']\n",
    "results['valid R2']  = rfCV.cv_results_['mean_test_score']\n",
    "results.plot.line(x='trees',y=['train R2','valid R2'])"
   ]
  },
  {
   "cell_type": "code",
   "execution_count": 99,
   "id": "5f9b21a8-3b94-4da3-a60b-895a83368564",
   "metadata": {},
   "outputs": [
    {
     "name": "stdout",
     "output_type": "stream",
     "text": [
      "test R2 0.8527764615035297\n"
     ]
    }
   ],
   "source": [
    "print('test R2',rfCV.score(X_test,y_test))"
   ]
  },
  {
   "cell_type": "code",
   "execution_count": 100,
   "id": "89fc8a11-adff-4b27-9134-4cb2265c5ef1",
   "metadata": {},
   "outputs": [
    {
     "name": "stdout",
     "output_type": "stream",
     "text": [
      "out-of-bag R2 = 0.8592749289092578\n",
      "\n",
      "train R2 (CV) = 0.9804530219357375   valid R2 = 0.8583140063635287\n",
      "\n",
      "     train R2 = 0.9806417331669643     test R2 = 0.8529959918315372\n"
     ]
    }
   ],
   "source": [
    "# out-of-bag score\n",
    "rf = RandomForestRegressor(n_estimators=150,max_features = 1/3,oob_score=True)\n",
    "rf.fit(X_train,y_train)\n",
    "print('out-of-bag R2 =',rf.oob_score_)\n",
    "print()\n",
    "cv_results = cross_validate(rf,X_train,y_train,return_train_score=True)\n",
    "R2_trainCV = cv_results['train_score'].mean()\n",
    "R2_valid   = cv_results['test_score'].mean()\n",
    "print('train R2 (CV) =',R2_trainCV,'  valid R2 =',R2_valid)\n",
    "print()\n",
    "R2_train = rf.score(X_train,y_train)\n",
    "R2_test  = rf.score(X_test,y_test)\n",
    "print('     train R2 =',R2_train,'    test R2 =',R2_test)"
   ]
  },
  {
   "cell_type": "code",
   "execution_count": 124,
   "id": "a315c657-f7cf-4703-9157-dfaee9841efd",
   "metadata": {},
   "outputs": [
    {
     "name": "stdout",
     "output_type": "stream",
     "text": [
      "Test MSE: 11860211780919.613\n",
      "Test MAE: 2587129.846\n"
     ]
    }
   ],
   "source": [
    "# Predict on your test set\n",
    "y_pred = rfCV.predict(X_test)\n",
    "\n",
    "# Compute and print MSE and MAE\n",
    "mse = mean_squared_error(y_test, y_pred)\n",
    "mae = mean_absolute_error(y_test, y_pred)\n",
    "print(f\"Test MSE: {mse:.3f}\")\n",
    "print(f\"Test MAE: {mae:.3f}\")"
   ]
  },
  {
   "cell_type": "markdown",
   "id": "a53be7fa-73f7-4ebe-b470-8d3078de54b6",
   "metadata": {},
   "source": [
    "# Boosting"
   ]
  },
  {
   "cell_type": "code",
   "execution_count": 148,
   "id": "d95e9c21-04a2-4aa3-a64e-c41148d0989c",
   "metadata": {},
   "outputs": [],
   "source": [
    "import numpy as np\n",
    "import pandas as pd\n",
    "from sklearn.metrics import r2_score\n",
    "from sklearn.tree import DecisionTreeRegressor\n",
    "from sklearn.ensemble import GradientBoostingRegressor\n",
    "from sklearn.model_selection import train_test_split,GridSearchCV"
   ]
  },
  {
   "cell_type": "code",
   "execution_count": 186,
   "id": "c88af706-faad-4954-b10d-8f1cf47fafb7",
   "metadata": {},
   "outputs": [
    {
     "name": "stdout",
     "output_type": "stream",
     "text": [
      "Best params : {'learning_rate': 0.1, 'max_depth': 3, 'n_estimators': 100}\n",
      "Best CV R² : GridSearchCV(cv=5, estimator=GradientBoostingRegressor(random_state=42),\n",
      "             n_jobs=-1,\n",
      "             param_grid={'learning_rate': [0.01, 0.05, 0.1, 0.2],\n",
      "                         'max_depth': [1, 3, 5, 7],\n",
      "                         'n_estimators': [50, 100, 200, 500]},\n",
      "             return_train_score=True, scoring='r2')\n",
      "Test R²    : 0.8597409128463471\n"
     ]
    }
   ],
   "source": [
    "param_grid = {\n",
    "    'n_estimators': [50, 100, 200, 500],\n",
    "    'max_depth':    [1, 3, 5, 7],\n",
    "    'learning_rate':[0.01, 0.05, 0.1, 0.2]\n",
    "}\n",
    "\n",
    "# 2) set up the base estimator\n",
    "gbt = GradientBoostingRegressor(random_state=42)\n",
    "\n",
    "# 3) wrap in GridSearchCV (5-fold CV, optimizing R²)\n",
    "gbtCV = GridSearchCV(\n",
    "    gbt,\n",
    "    param_grid=param_grid,\n",
    "    cv=5,\n",
    "    scoring='r2',\n",
    "    n_jobs=-1,\n",
    "    return_train_score=True\n",
    ")\n",
    "\n",
    "# 4) fit on the training data\n",
    "gbtCV.fit(X_train, y_train)\n",
    "\n",
    "# 5) report best parameters and CV score\n",
    "print(\"Best params :\", gbtCV.best_params_)\n",
    "print(\"Best CV R² :\", gbtCV)\n",
    "\n",
    "# 6) evaluate on the hold-out test set\n",
    "best_gbt = gbtCV.best_estimator_\n",
    "test_r2  = best_gbt.score(X_test, y_test)\n",
    "print(\"Test R²    :\", test_r2)"
   ]
  },
  {
   "cell_type": "code",
   "execution_count": 188,
   "id": "d78a5579-4f3d-48e6-a97e-ed3f503c8087",
   "metadata": {},
   "outputs": [
    {
     "name": "stdout",
     "output_type": "stream",
     "text": [
      "Test MSE: 11246651867813.176\n",
      "Test MAE: 2508932.644\n"
     ]
    }
   ],
   "source": [
    "# Predict on your test set\n",
    "y_pred = gbtCV.predict(X_test)\n",
    "\n",
    "# Compute and print MSE and MAE\n",
    "mse = mean_squared_error(y_test, y_pred)\n",
    "mae = mean_absolute_error(y_test, y_pred)\n",
    "print(f\"Test MSE: {mse:.3f}\")\n",
    "print(f\"Test MAE: {mae:.3f}\")"
   ]
  },
  {
   "cell_type": "code",
   "execution_count": null,
   "id": "9dec753a-0355-4339-a6d5-560652a81277",
   "metadata": {},
   "outputs": [],
   "source": []
  }
 ],
 "metadata": {
  "kernelspec": {
   "display_name": "Python [conda env:base] *",
   "language": "python",
   "name": "conda-base-py"
  },
  "language_info": {
   "codemirror_mode": {
    "name": "ipython",
    "version": 3
   },
   "file_extension": ".py",
   "mimetype": "text/x-python",
   "name": "python",
   "nbconvert_exporter": "python",
   "pygments_lexer": "ipython3",
   "version": "3.12.7"
  }
 },
 "nbformat": 4,
 "nbformat_minor": 5
}
