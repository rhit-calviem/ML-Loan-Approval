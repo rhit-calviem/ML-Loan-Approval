{
 "cells": [
  {
   "cell_type": "markdown",
   "id": "58802a95-a282-4445-a329-3ce3032638fd",
   "metadata": {},
   "source": [
    "# Process data"
   ]
  },
  {
   "cell_type": "code",
   "execution_count": 1,
   "id": "2c4fcd9d-f4b8-4435-a9a8-ace30ff22cc9",
   "metadata": {},
   "outputs": [],
   "source": [
    "import pandas as pd\n",
    "import numpy as np\n",
    "from sklearn.model_selection import train_test_split, GridSearchCV\n",
    "from sklearn.preprocessing import StandardScaler, OneHotEncoder\n",
    "from sklearn.metrics import classification_report, confusion_matrix, ConfusionMatrixDisplay, accuracy_score\n",
    "from catboost import CatBoostClassifier\n",
    "from xgboost import XGBClassifier\n",
    "\n",
    "# Load dataset\n",
    "df = pd.read_csv(\"loan_approval_dataset.csv\")\n",
    "df = df.drop(columns=[\"loan_id\"])\n",
    "df.columns = df.columns.str.strip()\n",
    "df.head(3)\n",
    "\n",
    "df[\"loan_status\"] = df[\"loan_status\"].str.strip().map({'Rejected': 0, 'Approved': 1})\n",
    "\n",
    "X = df.drop(columns=[\"loan_status\"])\n",
    "y = df[\"loan_status\"]\n",
    "\n",
    "# Identify numeric and categorical columns\n",
    "numerical_cols = X.select_dtypes(include=[\"int64\", \"float64\"]).columns\n",
    "categorical_cols = X.select_dtypes(include=[\"object\", \"category\"]).columns\n",
    "\n",
    "# One-hot encode categorical columns\n",
    "X_encoded = pd.get_dummies(X, columns=categorical_cols, drop_first=True)\n",
    "\n",
    "# Split before scaling\n",
    "X_train, X_test, y_train, y_test = train_test_split(X_encoded, y, test_size=0.2, random_state=42, stratify=y)\n",
    "\n",
    "# Scale only numerical columns\n",
    "scaler = StandardScaler()\n",
    "X_train[numerical_cols] = scaler.fit_transform(X_train[numerical_cols])\n",
    "X_test[numerical_cols] = scaler.transform(X_test[numerical_cols])"
   ]
  },
  {
   "cell_type": "markdown",
   "id": "9cd4c2c7-3bb9-4022-8d08-6e12986ceafb",
   "metadata": {},
   "source": [
    "# Load best model"
   ]
  },
  {
   "cell_type": "code",
   "execution_count": 2,
   "id": "597ef135-bb14-4877-89de-6d4efa016b55",
   "metadata": {},
   "outputs": [],
   "source": [
    "# Instantiate with fixed hyperparameters\n",
    "xgb = XGBClassifier(\n",
    "    max_depth=7,\n",
    "    learning_rate=0.1,\n",
    "    n_estimators=100,\n",
    "    eval_metric='logloss',\n",
    "    random_state=42\n",
    ")\n",
    "\n",
    "# Train the model\n",
    "xgb.fit(X_train, y_train)\n",
    "\n",
    "# Evaluate\n",
    "y_pred = xgb.predict(X_test)"
   ]
  },
  {
   "cell_type": "markdown",
   "id": "88cbadef-e88c-4f7b-b794-61eb06de2ec2",
   "metadata": {},
   "source": [
    "## Demo pt.1"
   ]
  },
  {
   "cell_type": "code",
   "execution_count": 3,
   "id": "876699ef-ff71-4c3c-a411-042b30883009",
   "metadata": {},
   "outputs": [],
   "source": [
    "def predict_from_similar_scores(cibil_score, loan_amount, income_annum, loan_term):\n",
    "\n",
    "    similar_rows = X_train[np.isclose(X_train['cibil_score'], cibil_score, atol=5)]\n",
    "\n",
    "    if similar_rows.empty:\n",
    "        similar_rows = X_train.copy()\n",
    "\n",
    "    # Step 2: Create a \"prototype\" row\n",
    "    prototype = pd.Series(dtype='float64')\n",
    "\n",
    "    for col in X_train.columns:\n",
    "        if col in numerical_cols:\n",
    "            prototype[col] = similar_rows[col].mean()\n",
    "        else:\n",
    "            prototype[col] = similar_rows[col].mode()[0]\n",
    "\n",
    "    prototype['cibil_score'] = cibil_score\n",
    "    prototype['loan_amount'] = loan_amount\n",
    "    prototype['income_annum'] = income_annum\n",
    "    prototype['loan_term'] = loan_term\n",
    "##\n",
    "    sample_df = pd.DataFrame([prototype])\n",
    "    sample_df[numerical_cols] = scaler.transform(sample_df[numerical_cols])\n",
    "\n",
    "    pred = xgb.predict(sample_df)[0]\n",
    "\n",
    "    print(\"Loan Approved!\" if pred == 1 else \"Loan Rejected.\")"
   ]
  },
  {
   "cell_type": "markdown",
   "id": "21bf8a95-d269-4811-b92a-83c9b5844b91",
   "metadata": {},
   "source": [
    "### Tung Tung Tung Tung Tung Sahur"
   ]
  },
  {
   "cell_type": "code",
   "execution_count": 4,
   "id": "1a7d393f-9fd8-408d-818b-dea06e692482",
   "metadata": {},
   "outputs": [
    {
     "name": "stdout",
     "output_type": "stream",
     "text": [
      "Loan Approved!\n"
     ]
    }
   ],
   "source": [
    "predict_from_similar_scores(\n",
    "    cibil_score=700,\n",
    "    loan_amount=750000,\n",
    "    income_annum=200000,\n",
    "    loan_term=15\n",
    ")"
   ]
  },
  {
   "cell_type": "markdown",
   "id": "98fe82c9-8c63-43c8-844d-94fa0a76db35",
   "metadata": {},
   "source": [
    "### Captain America"
   ]
  },
  {
   "cell_type": "code",
   "execution_count": 5,
   "id": "07995e38-3741-47c8-834e-ea19d43a64b1",
   "metadata": {},
   "outputs": [
    {
     "name": "stdout",
     "output_type": "stream",
     "text": [
      "Loan Rejected.\n"
     ]
    }
   ],
   "source": [
    "predict_from_similar_scores(\n",
    "    cibil_score=10,\n",
    "    loan_amount=100000,\n",
    "    income_annum=1200000000,\n",
    "    loan_term=25\n",
    ")"
   ]
  },
  {
   "cell_type": "markdown",
   "id": "4afd0c9e-130e-42c9-8504-bb1dd5033a94",
   "metadata": {},
   "source": [
    "## Demo pt.2"
   ]
  },
  {
   "cell_type": "code",
   "execution_count": 6,
   "id": "449665a2-e1d6-4752-82fc-389c13e24760",
   "metadata": {},
   "outputs": [],
   "source": [
    "results = X_test.copy()\n",
    "results['true_label'] = y_test.values\n",
    "results['pred_label'] = xgb.predict(X_test)\n",
    "results['proba'] = xgb.predict_proba(X_test)[:, 1]\n",
    "results['correct'] = results['true_label'] == results['pred_label']\n",
    "\n",
    "results_original = results.copy()\n",
    "results_original[numerical_cols] = scaler.inverse_transform(results[numerical_cols])\n",
    "\n",
    "# High-confidence correct approvals\n",
    "obvious_accepts = results_original[\n",
    "    (results['true_label'] == 1) & \n",
    "    (results['pred_label'] == 1) & \n",
    "    (results['proba'] > 0.9)\n",
    "]\n",
    "\n",
    "# High-confidence correct rejections\n",
    "obvious_rejects = results_original[\n",
    "    (results['true_label'] == 0) & \n",
    "    (results['pred_label'] == 0) & \n",
    "    (results['proba'] < 0.1)\n",
    "]\n",
    "\n",
    "# Confident wrong predictions\n",
    "strange_errors = results_original[\n",
    "    (results['true_label'] != results['pred_label']) & \n",
    "    ((results['proba'] > 0.75) | (results['proba'] < 0.25))\n",
    "]\n",
    "\n",
    "extreme_rejects = obvious_rejects.sort_values(\n",
    "    by=['cibil_score', 'income_annum', 'loan_amount'],\n",
    "    ascending=[True, True, False]\n",
    ")"
   ]
  },
  {
   "cell_type": "markdown",
   "id": "0f230dda-a55f-460d-937c-c0c14e2d15a4",
   "metadata": {},
   "source": [
    "### What will it predict?"
   ]
  },
  {
   "cell_type": "code",
   "execution_count": 7,
   "id": "1ac6e97f-a7a1-4bb2-a50d-ba7abd482c07",
   "metadata": {},
   "outputs": [
    {
     "name": "stdout",
     "output_type": "stream",
     "text": [
      "no_of_dependents                   0.0\n",
      "income_annum                 6100000.0\n",
      "loan_amount                 23600000.0\n",
      "loan_term                         20.0\n",
      "cibil_score                      856.0\n",
      "residential_assets_value     3300000.0\n",
      "commercial_assets_value      5200000.0\n",
      "luxury_assets_value         17700000.0\n",
      "bank_asset_value             6400000.0\n",
      "education_ Not Graduate          False\n",
      "self_employed_ Yes               False\n",
      "Name: 2064, dtype: object\n"
     ]
    }
   ],
   "source": [
    "### predict on row 2064\n",
    "print(obvious_accepts.iloc[2].iloc[:-4])"
   ]
  },
  {
   "cell_type": "code",
   "execution_count": 8,
   "id": "633fcf4d-5284-4926-91f0-91b3f74426c6",
   "metadata": {},
   "outputs": [
    {
     "name": "stdout",
     "output_type": "stream",
     "text": [
      "Prediction: Approved\n",
      "Confidence: 99.97%\n",
      "Actual:  Approved\n"
     ]
    }
   ],
   "source": [
    "row_std = X_test.loc[2064]\n",
    "pred = xgb.predict(pd.DataFrame([row_std]))[0]\n",
    "prob = xgb.predict_proba(pd.DataFrame([row_std]))[0][1]\n",
    "print(\"Prediction:\", \"Approved\" if pred == 1 else \"Rejected\")\n",
    "print(\"Confidence:\", f\"{1-(pred-prob):.2%}\")\n",
    "print(\"Actual: \", \"Approved\" if y_test.loc[2064] == 1 else \"Rejected\")"
   ]
  },
  {
   "cell_type": "markdown",
   "id": "dad2b2ed-5c78-4614-9aef-08f77f02cee3",
   "metadata": {},
   "source": [
    "### What will it predict?"
   ]
  },
  {
   "cell_type": "code",
   "execution_count": 9,
   "id": "6ea424da-96df-4851-ac63-df77961ded78",
   "metadata": {},
   "outputs": [
    {
     "name": "stdout",
     "output_type": "stream",
     "text": [
      "no_of_dependents                   4.0\n",
      "income_annum                 4400000.0\n",
      "loan_amount                 17000000.0\n",
      "loan_term                         18.0\n",
      "cibil_score                      302.0\n",
      "residential_assets_value     1000000.0\n",
      "commercial_assets_value      2100000.0\n",
      "luxury_assets_value         14000000.0\n",
      "bank_asset_value             5700000.0\n",
      "education_ Not Graduate           True\n",
      "self_employed_ Yes               False\n",
      "Name: 878, dtype: object\n"
     ]
    }
   ],
   "source": [
    "### predict on row 878\n",
    "print(extreme_rejects.iloc[1].iloc[:-4])"
   ]
  },
  {
   "cell_type": "code",
   "execution_count": 10,
   "id": "401b803e-89e1-4f92-b967-4a2cb85e1746",
   "metadata": {},
   "outputs": [
    {
     "name": "stdout",
     "output_type": "stream",
     "text": [
      "Prediction: Rejected\n",
      "Confidence: 99.91%\n",
      "Actual:  Rejected\n"
     ]
    }
   ],
   "source": [
    "row_std = X_test.loc[878]\n",
    "pred = xgb.predict(pd.DataFrame([row_std]))[0]\n",
    "prob = xgb.predict_proba(pd.DataFrame([row_std]))[0][1]\n",
    "print(\"Prediction:\", \"Approved\" if pred == 1 else \"Rejected\")\n",
    "print(\"Confidence:\", f\"{1-(prob-pred):.2%}\")\n",
    "print(\"Actual: \", \"Approved\" if y_test.loc[878] == 1 else \"Rejected\")"
   ]
  },
  {
   "cell_type": "markdown",
   "id": "8e5c4555-29b6-4825-b78a-0c9e6b906fb9",
   "metadata": {},
   "source": [
    "### What will it predict?"
   ]
  },
  {
   "cell_type": "code",
   "execution_count": 11,
   "id": "83279ada-62d2-48c8-a775-d1d532d1b2c7",
   "metadata": {},
   "outputs": [
    {
     "name": "stdout",
     "output_type": "stream",
     "text": [
      "no_of_dependents                   3.0\n",
      "income_annum                 8300000.0\n",
      "loan_amount                 31400000.0\n",
      "loan_term                          6.0\n",
      "cibil_score                      674.0\n",
      "residential_assets_value     1000000.0\n",
      "commercial_assets_value      1600000.0\n",
      "luxury_assets_value         17200000.0\n",
      "bank_asset_value             6100000.0\n",
      "education_ Not Graduate           True\n",
      "self_employed_ Yes                True\n",
      "Name: 2856, dtype: object\n"
     ]
    }
   ],
   "source": [
    "### predict on row 2856\n",
    "print(strange_errors.iloc[0].iloc[:-4])"
   ]
  },
  {
   "cell_type": "code",
   "execution_count": 12,
   "id": "dc6a3c98-bb7c-4de9-8ee3-3eb0186ed55d",
   "metadata": {},
   "outputs": [
    {
     "name": "stdout",
     "output_type": "stream",
     "text": [
      "Prediction: Approved\n",
      "Confidence: 99.94%\n",
      "Actual:  Rejected\n"
     ]
    }
   ],
   "source": [
    "row_std = X_test.loc[2856]\n",
    "pred = xgb.predict(pd.DataFrame([row_std]))[0]\n",
    "prob = xgb.predict_proba(pd.DataFrame([row_std]))[0][1]\n",
    "print(\"Prediction:\", \"Approved\" if pred == 1 else \"Rejected\")\n",
    "print(\"Confidence:\", f\"{1-(pred-prob):.2%}\")\n",
    "print(\"Actual: \", \"Approved\" if y_test.loc[2856] == 1 else \"Rejected\")"
   ]
  },
  {
   "cell_type": "code",
   "execution_count": 13,
   "id": "f9acfd84-14e2-4d6c-8cb5-b1f33ccc5a69",
   "metadata": {},
   "outputs": [
    {
     "data": {
      "text/html": [
       "<div>\n",
       "<style scoped>\n",
       "    .dataframe tbody tr th:only-of-type {\n",
       "        vertical-align: middle;\n",
       "    }\n",
       "\n",
       "    .dataframe tbody tr th {\n",
       "        vertical-align: top;\n",
       "    }\n",
       "\n",
       "    .dataframe thead th {\n",
       "        text-align: right;\n",
       "    }\n",
       "</style>\n",
       "<table border=\"1\" class=\"dataframe\">\n",
       "  <thead>\n",
       "    <tr style=\"text-align: right;\">\n",
       "      <th></th>\n",
       "      <th>no_of_dependents</th>\n",
       "      <th>income_annum</th>\n",
       "      <th>loan_amount</th>\n",
       "      <th>loan_term</th>\n",
       "      <th>cibil_score</th>\n",
       "      <th>residential_assets_value</th>\n",
       "      <th>commercial_assets_value</th>\n",
       "      <th>luxury_assets_value</th>\n",
       "      <th>bank_asset_value</th>\n",
       "      <th>education_ Not Graduate</th>\n",
       "      <th>self_employed_ Yes</th>\n",
       "      <th>true_label</th>\n",
       "      <th>pred_label</th>\n",
       "      <th>proba</th>\n",
       "      <th>correct</th>\n",
       "    </tr>\n",
       "  </thead>\n",
       "  <tbody>\n",
       "    <tr>\n",
       "      <th>2856</th>\n",
       "      <td>3.0</td>\n",
       "      <td>8300000.0</td>\n",
       "      <td>31400000.0</td>\n",
       "      <td>6.0</td>\n",
       "      <td>674.0</td>\n",
       "      <td>1000000.0</td>\n",
       "      <td>1600000.0</td>\n",
       "      <td>17200000.0</td>\n",
       "      <td>6100000.0</td>\n",
       "      <td>True</td>\n",
       "      <td>True</td>\n",
       "      <td>0</td>\n",
       "      <td>1</td>\n",
       "      <td>0.999369</td>\n",
       "      <td>False</td>\n",
       "    </tr>\n",
       "    <tr>\n",
       "      <th>2142</th>\n",
       "      <td>0.0</td>\n",
       "      <td>2000000.0</td>\n",
       "      <td>6900000.0</td>\n",
       "      <td>2.0</td>\n",
       "      <td>448.0</td>\n",
       "      <td>2700000.0</td>\n",
       "      <td>3800000.0</td>\n",
       "      <td>7100000.0</td>\n",
       "      <td>1600000.0</td>\n",
       "      <td>True</td>\n",
       "      <td>False</td>\n",
       "      <td>1</td>\n",
       "      <td>0</td>\n",
       "      <td>0.175799</td>\n",
       "      <td>False</td>\n",
       "    </tr>\n",
       "    <tr>\n",
       "      <th>1174</th>\n",
       "      <td>4.0</td>\n",
       "      <td>9800000.0</td>\n",
       "      <td>27000000.0</td>\n",
       "      <td>2.0</td>\n",
       "      <td>395.0</td>\n",
       "      <td>18700000.0</td>\n",
       "      <td>3000000.0</td>\n",
       "      <td>23000000.0</td>\n",
       "      <td>9700000.0</td>\n",
       "      <td>False</td>\n",
       "      <td>True</td>\n",
       "      <td>0</td>\n",
       "      <td>1</td>\n",
       "      <td>0.750705</td>\n",
       "      <td>False</td>\n",
       "    </tr>\n",
       "    <tr>\n",
       "      <th>1475</th>\n",
       "      <td>5.0</td>\n",
       "      <td>9700000.0</td>\n",
       "      <td>28400000.0</td>\n",
       "      <td>4.0</td>\n",
       "      <td>494.0</td>\n",
       "      <td>5300000.0</td>\n",
       "      <td>12000000.0</td>\n",
       "      <td>24400000.0</td>\n",
       "      <td>10000000.0</td>\n",
       "      <td>True</td>\n",
       "      <td>False</td>\n",
       "      <td>0</td>\n",
       "      <td>1</td>\n",
       "      <td>0.941917</td>\n",
       "      <td>False</td>\n",
       "    </tr>\n",
       "    <tr>\n",
       "      <th>1950</th>\n",
       "      <td>0.0</td>\n",
       "      <td>200000.0</td>\n",
       "      <td>700000.0</td>\n",
       "      <td>10.0</td>\n",
       "      <td>587.0</td>\n",
       "      <td>-100000.0</td>\n",
       "      <td>100000.0</td>\n",
       "      <td>500000.0</td>\n",
       "      <td>100000.0</td>\n",
       "      <td>False</td>\n",
       "      <td>True</td>\n",
       "      <td>0</td>\n",
       "      <td>1</td>\n",
       "      <td>0.832182</td>\n",
       "      <td>False</td>\n",
       "    </tr>\n",
       "    <tr>\n",
       "      <th>2753</th>\n",
       "      <td>0.0</td>\n",
       "      <td>3800000.0</td>\n",
       "      <td>11700000.0</td>\n",
       "      <td>2.0</td>\n",
       "      <td>351.0</td>\n",
       "      <td>100000.0</td>\n",
       "      <td>6700000.0</td>\n",
       "      <td>12500000.0</td>\n",
       "      <td>3100000.0</td>\n",
       "      <td>False</td>\n",
       "      <td>True</td>\n",
       "      <td>1</td>\n",
       "      <td>0</td>\n",
       "      <td>0.121217</td>\n",
       "      <td>False</td>\n",
       "    </tr>\n",
       "    <tr>\n",
       "      <th>348</th>\n",
       "      <td>0.0</td>\n",
       "      <td>2000000.0</td>\n",
       "      <td>7000000.0</td>\n",
       "      <td>6.0</td>\n",
       "      <td>666.0</td>\n",
       "      <td>0.0</td>\n",
       "      <td>1200000.0</td>\n",
       "      <td>4300000.0</td>\n",
       "      <td>1400000.0</td>\n",
       "      <td>True</td>\n",
       "      <td>False</td>\n",
       "      <td>0</td>\n",
       "      <td>1</td>\n",
       "      <td>0.960929</td>\n",
       "      <td>False</td>\n",
       "    </tr>\n",
       "    <tr>\n",
       "      <th>2962</th>\n",
       "      <td>1.0</td>\n",
       "      <td>900000.0</td>\n",
       "      <td>2600000.0</td>\n",
       "      <td>4.0</td>\n",
       "      <td>346.0</td>\n",
       "      <td>400000.0</td>\n",
       "      <td>700000.0</td>\n",
       "      <td>2900000.0</td>\n",
       "      <td>900000.0</td>\n",
       "      <td>False</td>\n",
       "      <td>False</td>\n",
       "      <td>0</td>\n",
       "      <td>1</td>\n",
       "      <td>0.968203</td>\n",
       "      <td>False</td>\n",
       "    </tr>\n",
       "    <tr>\n",
       "      <th>3474</th>\n",
       "      <td>3.0</td>\n",
       "      <td>5400000.0</td>\n",
       "      <td>16800000.0</td>\n",
       "      <td>16.0</td>\n",
       "      <td>550.0</td>\n",
       "      <td>10700000.0</td>\n",
       "      <td>6400000.0</td>\n",
       "      <td>13400000.0</td>\n",
       "      <td>7000000.0</td>\n",
       "      <td>True</td>\n",
       "      <td>True</td>\n",
       "      <td>1</td>\n",
       "      <td>0</td>\n",
       "      <td>0.182846</td>\n",
       "      <td>False</td>\n",
       "    </tr>\n",
       "  </tbody>\n",
       "</table>\n",
       "</div>"
      ],
      "text/plain": [
       "      no_of_dependents  income_annum  loan_amount  loan_term  cibil_score  \\\n",
       "2856               3.0     8300000.0   31400000.0        6.0        674.0   \n",
       "2142               0.0     2000000.0    6900000.0        2.0        448.0   \n",
       "1174               4.0     9800000.0   27000000.0        2.0        395.0   \n",
       "1475               5.0     9700000.0   28400000.0        4.0        494.0   \n",
       "1950               0.0      200000.0     700000.0       10.0        587.0   \n",
       "2753               0.0     3800000.0   11700000.0        2.0        351.0   \n",
       "348                0.0     2000000.0    7000000.0        6.0        666.0   \n",
       "2962               1.0      900000.0    2600000.0        4.0        346.0   \n",
       "3474               3.0     5400000.0   16800000.0       16.0        550.0   \n",
       "\n",
       "      residential_assets_value  commercial_assets_value  luxury_assets_value  \\\n",
       "2856                 1000000.0                1600000.0           17200000.0   \n",
       "2142                 2700000.0                3800000.0            7100000.0   \n",
       "1174                18700000.0                3000000.0           23000000.0   \n",
       "1475                 5300000.0               12000000.0           24400000.0   \n",
       "1950                 -100000.0                 100000.0             500000.0   \n",
       "2753                  100000.0                6700000.0           12500000.0   \n",
       "348                        0.0                1200000.0            4300000.0   \n",
       "2962                  400000.0                 700000.0            2900000.0   \n",
       "3474                10700000.0                6400000.0           13400000.0   \n",
       "\n",
       "      bank_asset_value  education_ Not Graduate  self_employed_ Yes  \\\n",
       "2856         6100000.0                     True                True   \n",
       "2142         1600000.0                     True               False   \n",
       "1174         9700000.0                    False                True   \n",
       "1475        10000000.0                     True               False   \n",
       "1950          100000.0                    False                True   \n",
       "2753         3100000.0                    False                True   \n",
       "348          1400000.0                     True               False   \n",
       "2962          900000.0                    False               False   \n",
       "3474         7000000.0                     True                True   \n",
       "\n",
       "      true_label  pred_label     proba  correct  \n",
       "2856           0           1  0.999369    False  \n",
       "2142           1           0  0.175799    False  \n",
       "1174           0           1  0.750705    False  \n",
       "1475           0           1  0.941917    False  \n",
       "1950           0           1  0.832182    False  \n",
       "2753           1           0  0.121217    False  \n",
       "348            0           1  0.960929    False  \n",
       "2962           0           1  0.968203    False  \n",
       "3474           1           0  0.182846    False  "
      ]
     },
     "execution_count": 13,
     "metadata": {},
     "output_type": "execute_result"
    }
   ],
   "source": [
    "strange_errors"
   ]
  },
  {
   "cell_type": "code",
   "execution_count": null,
   "id": "cc0c77cc-a1d1-4469-853a-2f1fb0b119f5",
   "metadata": {},
   "outputs": [],
   "source": []
  }
 ],
 "metadata": {
  "kernelspec": {
   "display_name": "Python 3 (ipykernel)",
   "language": "python",
   "name": "python3"
  },
  "language_info": {
   "codemirror_mode": {
    "name": "ipython",
    "version": 3
   },
   "file_extension": ".py",
   "mimetype": "text/x-python",
   "name": "python",
   "nbconvert_exporter": "python",
   "pygments_lexer": "ipython3",
   "version": "3.11.11"
  }
 },
 "nbformat": 4,
 "nbformat_minor": 5
}
